{
 "cells": [
  {
   "cell_type": "code",
   "execution_count": 1,
   "id": "b33f75e9",
   "metadata": {},
   "outputs": [],
   "source": [
    "#Import library\n",
    "import numpy as np\n",
    "import pandas as pd\n",
    "import matplotlib.pyplot as plt\n",
    "import seaborn as sns\n",
    "import scipy.stats as stats"
   ]
  },
  {
   "cell_type": "code",
   "execution_count": 2,
   "id": "698acb66",
   "metadata": {},
   "outputs": [
    {
     "data": {
      "text/html": [
       "<div>\n",
       "<style scoped>\n",
       "    .dataframe tbody tr th:only-of-type {\n",
       "        vertical-align: middle;\n",
       "    }\n",
       "\n",
       "    .dataframe tbody tr th {\n",
       "        vertical-align: top;\n",
       "    }\n",
       "\n",
       "    .dataframe thead th {\n",
       "        text-align: right;\n",
       "    }\n",
       "</style>\n",
       "<table border=\"1\" class=\"dataframe\">\n",
       "  <thead>\n",
       "    <tr style=\"text-align: right;\">\n",
       "      <th></th>\n",
       "      <th>EmployeeID</th>\n",
       "      <th>Age</th>\n",
       "      <th>BusinessTravel</th>\n",
       "      <th>MonthlyIncome</th>\n",
       "      <th>JobSatisfaction</th>\n",
       "      <th>Bonus</th>\n",
       "      <th>Department</th>\n",
       "      <th>DistanceFromHome</th>\n",
       "      <th>Education</th>\n",
       "      <th>EducationField</th>\n",
       "      <th>EnvSatisfaction</th>\n",
       "      <th>Gender</th>\n",
       "      <th>JobRole</th>\n",
       "      <th>MaritalStatus</th>\n",
       "      <th>PerformanceRating</th>\n",
       "      <th>TrainingTimesLastYear</th>\n",
       "      <th>YearsAtCompany</th>\n",
       "      <th>YearsSinceLastPromotion</th>\n",
       "      <th>OverTime</th>\n",
       "      <th>Attrition</th>\n",
       "    </tr>\n",
       "  </thead>\n",
       "  <tbody>\n",
       "    <tr>\n",
       "      <th>0</th>\n",
       "      <td>1</td>\n",
       "      <td>41</td>\n",
       "      <td>Travel_Rarely</td>\n",
       "      <td>5993</td>\n",
       "      <td>4</td>\n",
       "      <td>17979</td>\n",
       "      <td>Sales</td>\n",
       "      <td>1</td>\n",
       "      <td>2</td>\n",
       "      <td>Life Sciences</td>\n",
       "      <td>2</td>\n",
       "      <td>Female</td>\n",
       "      <td>Sales Executive</td>\n",
       "      <td>Single</td>\n",
       "      <td>3</td>\n",
       "      <td>0</td>\n",
       "      <td>6</td>\n",
       "      <td>0</td>\n",
       "      <td>Yes</td>\n",
       "      <td>Yes</td>\n",
       "    </tr>\n",
       "    <tr>\n",
       "      <th>1</th>\n",
       "      <td>2</td>\n",
       "      <td>49</td>\n",
       "      <td>Travel_Frequently</td>\n",
       "      <td>5130</td>\n",
       "      <td>2</td>\n",
       "      <td>20520</td>\n",
       "      <td>Research &amp; Development</td>\n",
       "      <td>8</td>\n",
       "      <td>1</td>\n",
       "      <td>Life Sciences</td>\n",
       "      <td>3</td>\n",
       "      <td>Male</td>\n",
       "      <td>Research Scientist</td>\n",
       "      <td>Married</td>\n",
       "      <td>4</td>\n",
       "      <td>3</td>\n",
       "      <td>10</td>\n",
       "      <td>1</td>\n",
       "      <td>No</td>\n",
       "      <td>No</td>\n",
       "    </tr>\n",
       "    <tr>\n",
       "      <th>2</th>\n",
       "      <td>4</td>\n",
       "      <td>37</td>\n",
       "      <td>Travel_Rarely</td>\n",
       "      <td>2090</td>\n",
       "      <td>3</td>\n",
       "      <td>6270</td>\n",
       "      <td>Research &amp; Development</td>\n",
       "      <td>2</td>\n",
       "      <td>2</td>\n",
       "      <td>Other</td>\n",
       "      <td>4</td>\n",
       "      <td>Male</td>\n",
       "      <td>Laboratory Technician</td>\n",
       "      <td>Single</td>\n",
       "      <td>3</td>\n",
       "      <td>3</td>\n",
       "      <td>0</td>\n",
       "      <td>0</td>\n",
       "      <td>Yes</td>\n",
       "      <td>Yes</td>\n",
       "    </tr>\n",
       "    <tr>\n",
       "      <th>3</th>\n",
       "      <td>5</td>\n",
       "      <td>33</td>\n",
       "      <td>Travel_Frequently</td>\n",
       "      <td>2909</td>\n",
       "      <td>3</td>\n",
       "      <td>8727</td>\n",
       "      <td>Research &amp; Development</td>\n",
       "      <td>3</td>\n",
       "      <td>4</td>\n",
       "      <td>Life Sciences</td>\n",
       "      <td>4</td>\n",
       "      <td>Female</td>\n",
       "      <td>Research Scientist</td>\n",
       "      <td>Married</td>\n",
       "      <td>3</td>\n",
       "      <td>3</td>\n",
       "      <td>8</td>\n",
       "      <td>3</td>\n",
       "      <td>Yes</td>\n",
       "      <td>No</td>\n",
       "    </tr>\n",
       "    <tr>\n",
       "      <th>4</th>\n",
       "      <td>7</td>\n",
       "      <td>27</td>\n",
       "      <td>Travel_Rarely</td>\n",
       "      <td>3468</td>\n",
       "      <td>2</td>\n",
       "      <td>10404</td>\n",
       "      <td>Research &amp; Development</td>\n",
       "      <td>2</td>\n",
       "      <td>1</td>\n",
       "      <td>Medical</td>\n",
       "      <td>1</td>\n",
       "      <td>Male</td>\n",
       "      <td>Laboratory Technician</td>\n",
       "      <td>Married</td>\n",
       "      <td>3</td>\n",
       "      <td>3</td>\n",
       "      <td>2</td>\n",
       "      <td>2</td>\n",
       "      <td>No</td>\n",
       "      <td>No</td>\n",
       "    </tr>\n",
       "  </tbody>\n",
       "</table>\n",
       "</div>"
      ],
      "text/plain": [
       "   EmployeeID  Age     BusinessTravel  MonthlyIncome  JobSatisfaction  Bonus  \\\n",
       "0           1   41      Travel_Rarely           5993                4  17979   \n",
       "1           2   49  Travel_Frequently           5130                2  20520   \n",
       "2           4   37      Travel_Rarely           2090                3   6270   \n",
       "3           5   33  Travel_Frequently           2909                3   8727   \n",
       "4           7   27      Travel_Rarely           3468                2  10404   \n",
       "\n",
       "               Department  DistanceFromHome  Education EducationField  \\\n",
       "0                   Sales                 1          2  Life Sciences   \n",
       "1  Research & Development                 8          1  Life Sciences   \n",
       "2  Research & Development                 2          2          Other   \n",
       "3  Research & Development                 3          4  Life Sciences   \n",
       "4  Research & Development                 2          1        Medical   \n",
       "\n",
       "   EnvSatisfaction  Gender                JobRole MaritalStatus  \\\n",
       "0                2  Female        Sales Executive        Single   \n",
       "1                3    Male     Research Scientist       Married   \n",
       "2                4    Male  Laboratory Technician        Single   \n",
       "3                4  Female     Research Scientist       Married   \n",
       "4                1    Male  Laboratory Technician       Married   \n",
       "\n",
       "   PerformanceRating  TrainingTimesLastYear  YearsAtCompany  \\\n",
       "0                  3                      0               6   \n",
       "1                  4                      3              10   \n",
       "2                  3                      3               0   \n",
       "3                  3                      3               8   \n",
       "4                  3                      3               2   \n",
       "\n",
       "   YearsSinceLastPromotion OverTime Attrition  \n",
       "0                        0      Yes       Yes  \n",
       "1                        1       No        No  \n",
       "2                        0      Yes       Yes  \n",
       "3                        3      Yes        No  \n",
       "4                        2       No        No  "
      ]
     },
     "execution_count": 2,
     "metadata": {},
     "output_type": "execute_result"
    }
   ],
   "source": [
    "#Import dataset\n",
    "df = pd.read_csv('project_dataset.csv')\n",
    "df.head()"
   ]
  },
  {
   "cell_type": "code",
   "execution_count": 3,
   "id": "c27d3f31",
   "metadata": {},
   "outputs": [
    {
     "data": {
      "text/plain": [
       "(1470, 20)"
      ]
     },
     "execution_count": 3,
     "metadata": {},
     "output_type": "execute_result"
    }
   ],
   "source": [
    "df.shape"
   ]
  },
  {
   "cell_type": "code",
   "execution_count": 4,
   "id": "794c660f",
   "metadata": {},
   "outputs": [
    {
     "name": "stdout",
     "output_type": "stream",
     "text": [
      "<class 'pandas.core.frame.DataFrame'>\n",
      "RangeIndex: 1470 entries, 0 to 1469\n",
      "Data columns (total 20 columns):\n",
      " #   Column                   Non-Null Count  Dtype \n",
      "---  ------                   --------------  ----- \n",
      " 0   EmployeeID               1470 non-null   int64 \n",
      " 1   Age                      1470 non-null   int64 \n",
      " 2   BusinessTravel           1470 non-null   object\n",
      " 3   MonthlyIncome            1470 non-null   int64 \n",
      " 4   JobSatisfaction          1470 non-null   int64 \n",
      " 5   Bonus                    1470 non-null   int64 \n",
      " 6   Department               1470 non-null   object\n",
      " 7   DistanceFromHome         1470 non-null   int64 \n",
      " 8   Education                1470 non-null   int64 \n",
      " 9   EducationField           1470 non-null   object\n",
      " 10  EnvSatisfaction          1470 non-null   int64 \n",
      " 11  Gender                   1470 non-null   object\n",
      " 12  JobRole                  1470 non-null   object\n",
      " 13  MaritalStatus            1470 non-null   object\n",
      " 14  PerformanceRating        1470 non-null   int64 \n",
      " 15  TrainingTimesLastYear    1470 non-null   int64 \n",
      " 16  YearsAtCompany           1470 non-null   int64 \n",
      " 17  YearsSinceLastPromotion  1470 non-null   int64 \n",
      " 18  OverTime                 1470 non-null   object\n",
      " 19  Attrition                1470 non-null   object\n",
      "dtypes: int64(12), object(8)\n",
      "memory usage: 229.8+ KB\n"
     ]
    }
   ],
   "source": [
    "df.info()"
   ]
  },
  {
   "cell_type": "code",
   "execution_count": 5,
   "id": "405b3549",
   "metadata": {},
   "outputs": [
    {
     "data": {
      "text/html": [
       "<div>\n",
       "<style scoped>\n",
       "    .dataframe tbody tr th:only-of-type {\n",
       "        vertical-align: middle;\n",
       "    }\n",
       "\n",
       "    .dataframe tbody tr th {\n",
       "        vertical-align: top;\n",
       "    }\n",
       "\n",
       "    .dataframe thead th {\n",
       "        text-align: right;\n",
       "    }\n",
       "</style>\n",
       "<table border=\"1\" class=\"dataframe\">\n",
       "  <thead>\n",
       "    <tr style=\"text-align: right;\">\n",
       "      <th></th>\n",
       "      <th>EmployeeID</th>\n",
       "      <th>Age</th>\n",
       "      <th>BusinessTravel</th>\n",
       "      <th>MonthlyIncome</th>\n",
       "      <th>JobSatisfaction</th>\n",
       "      <th>Bonus</th>\n",
       "      <th>Department</th>\n",
       "      <th>DistanceFromHome</th>\n",
       "      <th>Education</th>\n",
       "      <th>EducationField</th>\n",
       "      <th>EnvSatisfaction</th>\n",
       "      <th>Gender</th>\n",
       "      <th>JobRole</th>\n",
       "      <th>MaritalStatus</th>\n",
       "      <th>PerformanceRating</th>\n",
       "      <th>TrainingTimesLastYear</th>\n",
       "      <th>YearsAtCompany</th>\n",
       "      <th>YearsSinceLastPromotion</th>\n",
       "      <th>OverTime</th>\n",
       "      <th>Attrition</th>\n",
       "    </tr>\n",
       "  </thead>\n",
       "  <tbody>\n",
       "  </tbody>\n",
       "</table>\n",
       "</div>"
      ],
      "text/plain": [
       "Empty DataFrame\n",
       "Columns: [EmployeeID, Age, BusinessTravel, MonthlyIncome, JobSatisfaction, Bonus, Department, DistanceFromHome, Education, EducationField, EnvSatisfaction, Gender, JobRole, MaritalStatus, PerformanceRating, TrainingTimesLastYear, YearsAtCompany, YearsSinceLastPromotion, OverTime, Attrition]\n",
       "Index: []"
      ]
     },
     "execution_count": 5,
     "metadata": {},
     "output_type": "execute_result"
    }
   ],
   "source": [
    "#Check for any duplicated data\n",
    "df[df.duplicated(keep=False)]"
   ]
  },
  {
   "cell_type": "code",
   "execution_count": 6,
   "id": "46a645d2",
   "metadata": {},
   "outputs": [
    {
     "data": {
      "text/plain": [
       "EmployeeID                 0\n",
       "Age                        0\n",
       "BusinessTravel             0\n",
       "MonthlyIncome              0\n",
       "JobSatisfaction            0\n",
       "Bonus                      0\n",
       "Department                 0\n",
       "DistanceFromHome           0\n",
       "Education                  0\n",
       "EducationField             0\n",
       "EnvSatisfaction            0\n",
       "Gender                     0\n",
       "JobRole                    0\n",
       "MaritalStatus              0\n",
       "PerformanceRating          0\n",
       "TrainingTimesLastYear      0\n",
       "YearsAtCompany             0\n",
       "YearsSinceLastPromotion    0\n",
       "OverTime                   0\n",
       "Attrition                  0\n",
       "dtype: int64"
      ]
     },
     "execution_count": 6,
     "metadata": {},
     "output_type": "execute_result"
    }
   ],
   "source": [
    "#Check for total missing data\n",
    "df.isnull().sum()"
   ]
  },
  {
   "cell_type": "code",
   "execution_count": 7,
   "id": "77fb8b2f",
   "metadata": {
    "scrolled": true
   },
   "outputs": [
    {
     "data": {
      "text/plain": [
       "Index(['EmployeeID', 'Age', 'BusinessTravel', 'MonthlyIncome',\n",
       "       'JobSatisfaction', 'Bonus', 'Department', 'DistanceFromHome',\n",
       "       'Education', 'EducationField', 'EnvSatisfaction', 'Gender', 'JobRole',\n",
       "       'MaritalStatus', 'PerformanceRating', 'TrainingTimesLastYear',\n",
       "       'YearsAtCompany', 'YearsSinceLastPromotion', 'OverTime', 'Attrition'],\n",
       "      dtype='object')"
      ]
     },
     "execution_count": 7,
     "metadata": {},
     "output_type": "execute_result"
    }
   ],
   "source": [
    "df.columns"
   ]
  },
  {
   "cell_type": "code",
   "execution_count": 8,
   "id": "7c0c49c2",
   "metadata": {},
   "outputs": [
    {
     "data": {
      "text/html": [
       "<div>\n",
       "<style scoped>\n",
       "    .dataframe tbody tr th:only-of-type {\n",
       "        vertical-align: middle;\n",
       "    }\n",
       "\n",
       "    .dataframe tbody tr th {\n",
       "        vertical-align: top;\n",
       "    }\n",
       "\n",
       "    .dataframe thead th {\n",
       "        text-align: right;\n",
       "    }\n",
       "</style>\n",
       "<table border=\"1\" class=\"dataframe\">\n",
       "  <thead>\n",
       "    <tr style=\"text-align: right;\">\n",
       "      <th></th>\n",
       "      <th>Age</th>\n",
       "      <th>BusinessTravel</th>\n",
       "      <th>MonthlyIncome</th>\n",
       "      <th>Job Satisfaction</th>\n",
       "      <th>Bonus</th>\n",
       "      <th>Department</th>\n",
       "      <th>DistanceFromHome</th>\n",
       "      <th>Education</th>\n",
       "      <th>EducationField</th>\n",
       "      <th>Environment Satisfaction</th>\n",
       "      <th>Gender</th>\n",
       "      <th>JobRole</th>\n",
       "      <th>MaritalStatus</th>\n",
       "      <th>PerformanceRating</th>\n",
       "      <th>TrainingTimesLastYear</th>\n",
       "      <th>YearsAtCompany</th>\n",
       "      <th>YearsSinceLastPromotion</th>\n",
       "      <th>OverTime</th>\n",
       "      <th>Attrition Status</th>\n",
       "    </tr>\n",
       "  </thead>\n",
       "  <tbody>\n",
       "    <tr>\n",
       "      <th>0</th>\n",
       "      <td>41</td>\n",
       "      <td>Travel_Rarely</td>\n",
       "      <td>5993</td>\n",
       "      <td>Very High</td>\n",
       "      <td>17979</td>\n",
       "      <td>Sales</td>\n",
       "      <td>1</td>\n",
       "      <td>College</td>\n",
       "      <td>Life Sciences</td>\n",
       "      <td>Medium</td>\n",
       "      <td>Female</td>\n",
       "      <td>Sales Executive</td>\n",
       "      <td>Single</td>\n",
       "      <td>3</td>\n",
       "      <td>0</td>\n",
       "      <td>6</td>\n",
       "      <td>0</td>\n",
       "      <td>Yes</td>\n",
       "      <td>Left</td>\n",
       "    </tr>\n",
       "    <tr>\n",
       "      <th>1</th>\n",
       "      <td>49</td>\n",
       "      <td>Travel_Frequently</td>\n",
       "      <td>5130</td>\n",
       "      <td>Medium</td>\n",
       "      <td>20520</td>\n",
       "      <td>Research &amp; Development</td>\n",
       "      <td>8</td>\n",
       "      <td>Below College</td>\n",
       "      <td>Life Sciences</td>\n",
       "      <td>High</td>\n",
       "      <td>Male</td>\n",
       "      <td>Research Scientist</td>\n",
       "      <td>Married</td>\n",
       "      <td>4</td>\n",
       "      <td>3</td>\n",
       "      <td>10</td>\n",
       "      <td>1</td>\n",
       "      <td>No</td>\n",
       "      <td>Stay</td>\n",
       "    </tr>\n",
       "    <tr>\n",
       "      <th>2</th>\n",
       "      <td>37</td>\n",
       "      <td>Travel_Rarely</td>\n",
       "      <td>2090</td>\n",
       "      <td>High</td>\n",
       "      <td>6270</td>\n",
       "      <td>Research &amp; Development</td>\n",
       "      <td>2</td>\n",
       "      <td>College</td>\n",
       "      <td>Other</td>\n",
       "      <td>Very High</td>\n",
       "      <td>Male</td>\n",
       "      <td>Laboratory Technician</td>\n",
       "      <td>Single</td>\n",
       "      <td>3</td>\n",
       "      <td>3</td>\n",
       "      <td>0</td>\n",
       "      <td>0</td>\n",
       "      <td>Yes</td>\n",
       "      <td>Left</td>\n",
       "    </tr>\n",
       "    <tr>\n",
       "      <th>3</th>\n",
       "      <td>33</td>\n",
       "      <td>Travel_Frequently</td>\n",
       "      <td>2909</td>\n",
       "      <td>High</td>\n",
       "      <td>8727</td>\n",
       "      <td>Research &amp; Development</td>\n",
       "      <td>3</td>\n",
       "      <td>Masters</td>\n",
       "      <td>Life Sciences</td>\n",
       "      <td>Very High</td>\n",
       "      <td>Female</td>\n",
       "      <td>Research Scientist</td>\n",
       "      <td>Married</td>\n",
       "      <td>3</td>\n",
       "      <td>3</td>\n",
       "      <td>8</td>\n",
       "      <td>3</td>\n",
       "      <td>Yes</td>\n",
       "      <td>Stay</td>\n",
       "    </tr>\n",
       "    <tr>\n",
       "      <th>4</th>\n",
       "      <td>27</td>\n",
       "      <td>Travel_Rarely</td>\n",
       "      <td>3468</td>\n",
       "      <td>Medium</td>\n",
       "      <td>10404</td>\n",
       "      <td>Research &amp; Development</td>\n",
       "      <td>2</td>\n",
       "      <td>Below College</td>\n",
       "      <td>Medical</td>\n",
       "      <td>Low</td>\n",
       "      <td>Male</td>\n",
       "      <td>Laboratory Technician</td>\n",
       "      <td>Married</td>\n",
       "      <td>3</td>\n",
       "      <td>3</td>\n",
       "      <td>2</td>\n",
       "      <td>2</td>\n",
       "      <td>No</td>\n",
       "      <td>Stay</td>\n",
       "    </tr>\n",
       "  </tbody>\n",
       "</table>\n",
       "</div>"
      ],
      "text/plain": [
       "   Age     BusinessTravel  MonthlyIncome Job Satisfaction  Bonus  \\\n",
       "0   41      Travel_Rarely           5993        Very High  17979   \n",
       "1   49  Travel_Frequently           5130           Medium  20520   \n",
       "2   37      Travel_Rarely           2090             High   6270   \n",
       "3   33  Travel_Frequently           2909             High   8727   \n",
       "4   27      Travel_Rarely           3468           Medium  10404   \n",
       "\n",
       "               Department  DistanceFromHome      Education EducationField  \\\n",
       "0                   Sales                 1        College  Life Sciences   \n",
       "1  Research & Development                 8  Below College  Life Sciences   \n",
       "2  Research & Development                 2        College          Other   \n",
       "3  Research & Development                 3        Masters  Life Sciences   \n",
       "4  Research & Development                 2  Below College        Medical   \n",
       "\n",
       "  Environment Satisfaction  Gender                JobRole MaritalStatus  \\\n",
       "0                   Medium  Female        Sales Executive        Single   \n",
       "1                     High    Male     Research Scientist       Married   \n",
       "2                Very High    Male  Laboratory Technician        Single   \n",
       "3                Very High  Female     Research Scientist       Married   \n",
       "4                      Low    Male  Laboratory Technician       Married   \n",
       "\n",
       "   PerformanceRating  TrainingTimesLastYear  YearsAtCompany  \\\n",
       "0                  3                      0               6   \n",
       "1                  4                      3              10   \n",
       "2                  3                      3               0   \n",
       "3                  3                      3               8   \n",
       "4                  3                      3               2   \n",
       "\n",
       "   YearsSinceLastPromotion OverTime Attrition Status  \n",
       "0                        0      Yes             Left  \n",
       "1                        1       No             Stay  \n",
       "2                        0      Yes             Left  \n",
       "3                        3      Yes             Stay  \n",
       "4                        2       No             Stay  "
      ]
     },
     "execution_count": 8,
     "metadata": {},
     "output_type": "execute_result"
    }
   ],
   "source": [
    "#Convert numerical to categorical and place into a new column\n",
    "df.loc[df['JobSatisfaction'] == 1, 'Job Satisfaction'] = 'Low'\n",
    "df.loc[df['JobSatisfaction'] == 2, 'Job Satisfaction'] = 'Medium'\n",
    "df.loc[df['JobSatisfaction'] == 3, 'Job Satisfaction'] = 'High'\n",
    "df.loc[df['JobSatisfaction'] == 4, 'Job Satisfaction'] = 'Very High'\n",
    "\n",
    "df.loc[df['EnvSatisfaction'] == 1, 'Environment Satisfaction'] = 'Low'\n",
    "df.loc[df['EnvSatisfaction'] == 2, 'Environment Satisfaction'] = 'Medium'\n",
    "df.loc[df['EnvSatisfaction'] == 3, 'Environment Satisfaction'] = 'High'\n",
    "df.loc[df['EnvSatisfaction'] == 4, 'Environment Satisfaction'] = 'Very High'\n",
    "\n",
    "df.loc[df['Education'] == 1, 'Education'] = 'Below College'\n",
    "df.loc[df['Education'] == 2, 'Education'] = 'College'\n",
    "df.loc[df['Education'] == 3, 'Education'] = 'Degree'\n",
    "df.loc[df['Education'] == 4, 'Education'] = 'Masters'\n",
    "df.loc[df['Education'] == 5, 'Education'] = 'PhD'\n",
    "\n",
    "df.loc[df['Attrition'] == 'Yes', 'Attrition Status'] = 'Left'\n",
    "df.loc[df['Attrition'] == 'No', 'Attrition Status'] = 'Stay'\n",
    "\n",
    "df = df[['Age', 'BusinessTravel', 'MonthlyIncome','Job Satisfaction',\n",
    "         'Bonus', 'Department', 'DistanceFromHome','Education',\n",
    "         'EducationField', 'Environment Satisfaction', 'Gender', 'JobRole',\n",
    "         'MaritalStatus', 'PerformanceRating', 'TrainingTimesLastYear',\n",
    "         'YearsAtCompany', 'YearsSinceLastPromotion', 'OverTime', 'Attrition Status']]\n",
    "df.head()\n"
   ]
  },
  {
   "cell_type": "markdown",
   "id": "a9294077",
   "metadata": {},
   "source": [
    "## Proportion of Gender?"
   ]
  },
  {
   "cell_type": "code",
   "execution_count": 9,
   "id": "efb1d28a",
   "metadata": {},
   "outputs": [
    {
     "data": {
      "text/plain": [
       "Gender\n",
       "Male      882\n",
       "Female    588\n",
       "Name: count, dtype: int64"
      ]
     },
     "execution_count": 9,
     "metadata": {},
     "output_type": "execute_result"
    }
   ],
   "source": [
    "gender_count = df['Gender'].value_counts\n",
    "gender_count()"
   ]
  },
  {
   "cell_type": "code",
   "execution_count": 10,
   "id": "d6c58619",
   "metadata": {},
   "outputs": [
    {
     "data": {
      "image/png": "[encoded data removed]",
      "text/plain": [
       "<Figure size 640x480 with 1 Axes>"
      ]
     },
     "metadata": {},
     "output_type": "display_data"
    }
   ],
   "source": [
    "gender_proportion = df['Gender'].value_counts(normalize=True)*100\n",
    "gender_proportion.plot(kind='pie',autopct='%.1f%%')\n",
    "plt.show()"
   ]
  },
  {
   "cell_type": "code",
   "execution_count": 11,
   "id": "9c204067",
   "metadata": {},
   "outputs": [
    {
     "data": {
      "text/html": [
       "<div>\n",
       "<style scoped>\n",
       "    .dataframe tbody tr th:only-of-type {\n",
       "        vertical-align: middle;\n",
       "    }\n",
       "\n",
       "    .dataframe tbody tr th {\n",
       "        vertical-align: top;\n",
       "    }\n",
       "\n",
       "    .dataframe thead th {\n",
       "        text-align: right;\n",
       "    }\n",
       "</style>\n",
       "<table border=\"1\" class=\"dataframe\">\n",
       "  <thead>\n",
       "    <tr style=\"text-align: right;\">\n",
       "      <th>Attrition Status</th>\n",
       "      <th>Left</th>\n",
       "      <th>Stay</th>\n",
       "    </tr>\n",
       "    <tr>\n",
       "      <th>Gender</th>\n",
       "      <th></th>\n",
       "      <th></th>\n",
       "    </tr>\n",
       "  </thead>\n",
       "  <tbody>\n",
       "    <tr>\n",
       "      <th>Female</th>\n",
       "      <td>14.795918</td>\n",
       "      <td>85.204082</td>\n",
       "    </tr>\n",
       "    <tr>\n",
       "      <th>Male</th>\n",
       "      <td>17.006803</td>\n",
       "      <td>82.993197</td>\n",
       "    </tr>\n",
       "  </tbody>\n",
       "</table>\n",
       "</div>"
      ],
      "text/plain": [
       "Attrition Status       Left       Stay\n",
       "Gender                                \n",
       "Female            14.795918  85.204082\n",
       "Male              17.006803  82.993197"
      ]
     },
     "execution_count": 11,
     "metadata": {},
     "output_type": "execute_result"
    }
   ],
   "source": [
    "Gender_attritionprop = pd.crosstab(index=df['Gender'],columns=df['Attrition Status'], normalize='index')*100\n",
    "Gender_attritionprop"
   ]
  },
  {
   "cell_type": "code",
   "execution_count": 12,
   "id": "5774d646",
   "metadata": {},
   "outputs": [
    {
     "data": {
      "text/html": [
       "<div>\n",
       "<style scoped>\n",
       "    .dataframe tbody tr th:only-of-type {\n",
       "        vertical-align: middle;\n",
       "    }\n",
       "\n",
       "    .dataframe tbody tr th {\n",
       "        vertical-align: top;\n",
       "    }\n",
       "\n",
       "    .dataframe thead th {\n",
       "        text-align: right;\n",
       "    }\n",
       "</style>\n",
       "<table border=\"1\" class=\"dataframe\">\n",
       "  <thead>\n",
       "    <tr style=\"text-align: right;\">\n",
       "      <th>Attrition Status</th>\n",
       "      <th>Left</th>\n",
       "      <th>Stay</th>\n",
       "    </tr>\n",
       "    <tr>\n",
       "      <th>Gender</th>\n",
       "      <th></th>\n",
       "      <th></th>\n",
       "    </tr>\n",
       "  </thead>\n",
       "  <tbody>\n",
       "    <tr>\n",
       "      <th>Female</th>\n",
       "      <td>87</td>\n",
       "      <td>501</td>\n",
       "    </tr>\n",
       "    <tr>\n",
       "      <th>Male</th>\n",
       "      <td>150</td>\n",
       "      <td>732</td>\n",
       "    </tr>\n",
       "  </tbody>\n",
       "</table>\n",
       "</div>"
      ],
      "text/plain": [
       "Attrition Status  Left  Stay\n",
       "Gender                      \n",
       "Female              87   501\n",
       "Male               150   732"
      ]
     },
     "execution_count": 12,
     "metadata": {},
     "output_type": "execute_result"
    }
   ],
   "source": [
    "Gender_attrition = pd.crosstab(index=df['Gender'],columns=df['Attrition Status'])\n",
    "Gender_attrition"
   ]
  },
  {
   "cell_type": "code",
   "execution_count": 13,
   "id": "c0076220",
   "metadata": {},
   "outputs": [
    {
     "data": {
      "image/png": "[encoded data removed]",
      "text/plain": [
       "<Figure size 640x480 with 1 Axes>"
      ]
     },
     "metadata": {},
     "output_type": "display_data"
    }
   ],
   "source": [
    "Gender_attritionprop.plot(kind='bar')\n",
    "plt.title('Attrition by Gender')\n",
    "plt.ylabel('Proportion, %')\n",
    "\n",
    "plt.show()"
   ]
  },
  {
   "cell_type": "code",
   "execution_count": 14,
   "id": "f21b48c0",
   "metadata": {},
   "outputs": [
    {
     "data": {
      "text/plain": [
       "0.29057244902890855"
      ]
     },
     "execution_count": 14,
     "metadata": {},
     "output_type": "execute_result"
    }
   ],
   "source": [
    "c, p, dof, expected = stats.chi2_contingency(Gender_attrition)\n",
    "p"
   ]
  },
  {
   "cell_type": "markdown",
   "id": "e67a6b0e",
   "metadata": {},
   "source": [
    "## Distribution of Age"
   ]
  },
  {
   "cell_type": "code",
   "execution_count": 15,
   "id": "349af46a",
   "metadata": {},
   "outputs": [
    {
     "data": {
      "image/png": "[encoded data removed]",
      "text/plain": [
       "<Figure size 640x480 with 1 Axes>"
      ]
     },
     "metadata": {},
     "output_type": "display_data"
    }
   ],
   "source": [
    "plt.hist(df['Age'],bins=20,edgecolor='black' )\n",
    "plt.xlabel('Age')\n",
    "plt.ylabel('Number of Employees')\n",
    "plt.title('Distribution of Age of Employees')\n",
    "plt.show()"
   ]
  },
  {
   "cell_type": "code",
   "execution_count": 16,
   "id": "33855d0d",
   "metadata": {},
   "outputs": [
    {
     "data": {
      "image/png": "[encoded data removed]",
      "text/plain": [
       "<Figure size 640x480 with 1 Axes>"
      ]
     },
     "metadata": {},
     "output_type": "display_data"
    }
   ],
   "source": [
    "sns.boxplot(x='Age',data=df)\n",
    "plt.show()"
   ]
  },
  {
   "cell_type": "code",
   "execution_count": 17,
   "id": "4701f217",
   "metadata": {},
   "outputs": [
    {
     "data": {
      "text/plain": [
       "count    1470.000000\n",
       "mean       36.923810\n",
       "std         9.135373\n",
       "min        18.000000\n",
       "25%        30.000000\n",
       "50%        36.000000\n",
       "75%        43.000000\n",
       "max        60.000000\n",
       "Name: Age, dtype: float64"
      ]
     },
     "execution_count": 17,
     "metadata": {},
     "output_type": "execute_result"
    }
   ],
   "source": [
    "df['Age'].describe()"
   ]
  },
  {
   "cell_type": "code",
   "execution_count": 18,
   "id": "23a70232",
   "metadata": {},
   "outputs": [
    {
     "data": {
      "text/html": [
       "<div>\n",
       "<style scoped>\n",
       "    .dataframe tbody tr th:only-of-type {\n",
       "        vertical-align: middle;\n",
       "    }\n",
       "\n",
       "    .dataframe tbody tr th {\n",
       "        vertical-align: top;\n",
       "    }\n",
       "\n",
       "    .dataframe thead th {\n",
       "        text-align: right;\n",
       "    }\n",
       "</style>\n",
       "<table border=\"1\" class=\"dataframe\">\n",
       "  <thead>\n",
       "    <tr style=\"text-align: right;\">\n",
       "      <th></th>\n",
       "      <th>Age</th>\n",
       "      <th>BusinessTravel</th>\n",
       "      <th>MonthlyIncome</th>\n",
       "      <th>Job Satisfaction</th>\n",
       "      <th>Bonus</th>\n",
       "      <th>Department</th>\n",
       "      <th>DistanceFromHome</th>\n",
       "      <th>Education</th>\n",
       "      <th>EducationField</th>\n",
       "      <th>Environment Satisfaction</th>\n",
       "      <th>Gender</th>\n",
       "      <th>JobRole</th>\n",
       "      <th>MaritalStatus</th>\n",
       "      <th>PerformanceRating</th>\n",
       "      <th>TrainingTimesLastYear</th>\n",
       "      <th>YearsAtCompany</th>\n",
       "      <th>YearsSinceLastPromotion</th>\n",
       "      <th>OverTime</th>\n",
       "      <th>Attrition Status</th>\n",
       "    </tr>\n",
       "  </thead>\n",
       "  <tbody>\n",
       "    <tr>\n",
       "      <th>0</th>\n",
       "      <td>41</td>\n",
       "      <td>Travel_Rarely</td>\n",
       "      <td>5993</td>\n",
       "      <td>Very High</td>\n",
       "      <td>17979</td>\n",
       "      <td>Sales</td>\n",
       "      <td>1</td>\n",
       "      <td>College</td>\n",
       "      <td>Life Sciences</td>\n",
       "      <td>Medium</td>\n",
       "      <td>Female</td>\n",
       "      <td>Sales Executive</td>\n",
       "      <td>Single</td>\n",
       "      <td>3</td>\n",
       "      <td>0</td>\n",
       "      <td>6</td>\n",
       "      <td>0</td>\n",
       "      <td>Yes</td>\n",
       "      <td>Left</td>\n",
       "    </tr>\n",
       "    <tr>\n",
       "      <th>2</th>\n",
       "      <td>37</td>\n",
       "      <td>Travel_Rarely</td>\n",
       "      <td>2090</td>\n",
       "      <td>High</td>\n",
       "      <td>6270</td>\n",
       "      <td>Research &amp; Development</td>\n",
       "      <td>2</td>\n",
       "      <td>College</td>\n",
       "      <td>Other</td>\n",
       "      <td>Very High</td>\n",
       "      <td>Male</td>\n",
       "      <td>Laboratory Technician</td>\n",
       "      <td>Single</td>\n",
       "      <td>3</td>\n",
       "      <td>3</td>\n",
       "      <td>0</td>\n",
       "      <td>0</td>\n",
       "      <td>Yes</td>\n",
       "      <td>Left</td>\n",
       "    </tr>\n",
       "    <tr>\n",
       "      <th>14</th>\n",
       "      <td>28</td>\n",
       "      <td>Travel_Rarely</td>\n",
       "      <td>2028</td>\n",
       "      <td>High</td>\n",
       "      <td>6084</td>\n",
       "      <td>Research &amp; Development</td>\n",
       "      <td>24</td>\n",
       "      <td>Degree</td>\n",
       "      <td>Life Sciences</td>\n",
       "      <td>High</td>\n",
       "      <td>Male</td>\n",
       "      <td>Laboratory Technician</td>\n",
       "      <td>Single</td>\n",
       "      <td>3</td>\n",
       "      <td>4</td>\n",
       "      <td>4</td>\n",
       "      <td>0</td>\n",
       "      <td>Yes</td>\n",
       "      <td>Left</td>\n",
       "    </tr>\n",
       "    <tr>\n",
       "      <th>21</th>\n",
       "      <td>36</td>\n",
       "      <td>Travel_Rarely</td>\n",
       "      <td>3407</td>\n",
       "      <td>Low</td>\n",
       "      <td>13628</td>\n",
       "      <td>Sales</td>\n",
       "      <td>9</td>\n",
       "      <td>Masters</td>\n",
       "      <td>Life Sciences</td>\n",
       "      <td>High</td>\n",
       "      <td>Male</td>\n",
       "      <td>Sales Representative</td>\n",
       "      <td>Single</td>\n",
       "      <td>4</td>\n",
       "      <td>4</td>\n",
       "      <td>5</td>\n",
       "      <td>0</td>\n",
       "      <td>No</td>\n",
       "      <td>Left</td>\n",
       "    </tr>\n",
       "    <tr>\n",
       "      <th>24</th>\n",
       "      <td>34</td>\n",
       "      <td>Travel_Rarely</td>\n",
       "      <td>2960</td>\n",
       "      <td>Low</td>\n",
       "      <td>8880</td>\n",
       "      <td>Research &amp; Development</td>\n",
       "      <td>6</td>\n",
       "      <td>Below College</td>\n",
       "      <td>Medical</td>\n",
       "      <td>Medium</td>\n",
       "      <td>Male</td>\n",
       "      <td>Research Scientist</td>\n",
       "      <td>Single</td>\n",
       "      <td>3</td>\n",
       "      <td>2</td>\n",
       "      <td>4</td>\n",
       "      <td>1</td>\n",
       "      <td>No</td>\n",
       "      <td>Left</td>\n",
       "    </tr>\n",
       "  </tbody>\n",
       "</table>\n",
       "</div>"
      ],
      "text/plain": [
       "    Age BusinessTravel  MonthlyIncome Job Satisfaction  Bonus  \\\n",
       "0    41  Travel_Rarely           5993        Very High  17979   \n",
       "2    37  Travel_Rarely           2090             High   6270   \n",
       "14   28  Travel_Rarely           2028             High   6084   \n",
       "21   36  Travel_Rarely           3407              Low  13628   \n",
       "24   34  Travel_Rarely           2960              Low   8880   \n",
       "\n",
       "                Department  DistanceFromHome      Education EducationField  \\\n",
       "0                    Sales                 1        College  Life Sciences   \n",
       "2   Research & Development                 2        College          Other   \n",
       "14  Research & Development                24         Degree  Life Sciences   \n",
       "21                   Sales                 9        Masters  Life Sciences   \n",
       "24  Research & Development                 6  Below College        Medical   \n",
       "\n",
       "   Environment Satisfaction  Gender                JobRole MaritalStatus  \\\n",
       "0                    Medium  Female        Sales Executive        Single   \n",
       "2                 Very High    Male  Laboratory Technician        Single   \n",
       "14                     High    Male  Laboratory Technician        Single   \n",
       "21                     High    Male   Sales Representative        Single   \n",
       "24                   Medium    Male     Research Scientist        Single   \n",
       "\n",
       "    PerformanceRating  TrainingTimesLastYear  YearsAtCompany  \\\n",
       "0                   3                      0               6   \n",
       "2                   3                      3               0   \n",
       "14                  3                      4               4   \n",
       "21                  4                      4               5   \n",
       "24                  3                      2               4   \n",
       "\n",
       "    YearsSinceLastPromotion OverTime Attrition Status  \n",
       "0                         0      Yes             Left  \n",
       "2                         0      Yes             Left  \n",
       "14                        0      Yes             Left  \n",
       "21                        0       No             Left  \n",
       "24                        1       No             Left  "
      ]
     },
     "execution_count": 18,
     "metadata": {},
     "output_type": "execute_result"
    }
   ],
   "source": [
    "df_attrition = df[df['Attrition Status'] == 'Left']\n",
    "df_attrition.head()"
   ]
  },
  {
   "cell_type": "code",
   "execution_count": 19,
   "id": "69db6897",
   "metadata": {},
   "outputs": [
    {
     "data": {
      "image/png": "[encoded data removed]",
      "text/plain": [
       "<Figure size 640x480 with 1 Axes>"
      ]
     },
     "metadata": {},
     "output_type": "display_data"
    }
   ],
   "source": [
    "#plot boxplot for attrition status = left\n",
    "sns.boxplot(x='Age',data=df_attrition)\n",
    "plt.show()"
   ]
  },
  {
   "cell_type": "code",
   "execution_count": 20,
   "id": "7b4aeb5d",
   "metadata": {},
   "outputs": [
    {
     "data": {
      "text/plain": [
       "count    237.000000\n",
       "mean      33.607595\n",
       "std        9.689350\n",
       "min       18.000000\n",
       "25%       28.000000\n",
       "50%       32.000000\n",
       "75%       39.000000\n",
       "max       58.000000\n",
       "Name: Age, dtype: float64"
      ]
     },
     "execution_count": 20,
     "metadata": {},
     "output_type": "execute_result"
    }
   ],
   "source": [
    "df_attrition['Age'].describe()\n"
   ]
  },
  {
   "cell_type": "markdown",
   "id": "4f7bca2a",
   "metadata": {},
   "source": [
    "## Proportion of Attrition (Respond variable)"
   ]
  },
  {
   "cell_type": "code",
   "execution_count": 21,
   "id": "be5c0110",
   "metadata": {},
   "outputs": [
    {
     "data": {
      "text/plain": [
       "Attrition Status\n",
       "Stay    1233\n",
       "Left     237\n",
       "Name: count, dtype: int64"
      ]
     },
     "execution_count": 21,
     "metadata": {},
     "output_type": "execute_result"
    }
   ],
   "source": [
    "attrition_count = df['Attrition Status'].value_counts\n",
    "attrition_count()"
   ]
  },
  {
   "cell_type": "code",
   "execution_count": 22,
   "id": "a890c724",
   "metadata": {},
   "outputs": [
    {
     "data": {
      "image/png": "[encoded data removed]",
      "text/plain": [
       "<Figure size 640x480 with 1 Axes>"
      ]
     },
     "metadata": {},
     "output_type": "display_data"
    }
   ],
   "source": [
    "#Proportion of Attrition\n",
    "attrition_prop = df['Attrition Status'].value_counts(normalize=True)*100\n",
    "attrition_prop.plot(kind='pie',autopct='%.1f%%')\n",
    "plt.show()"
   ]
  },
  {
   "cell_type": "markdown",
   "id": "94344d4c",
   "metadata": {},
   "source": [
    "Proportion of Stay and Left in the Attrition status of an employee is imbalance. This will cause bias when training the model. Model is predicted to perform better on predicting Stay class in Attrition."
   ]
  },
  {
   "cell_type": "markdown",
   "id": "2de27dba",
   "metadata": {},
   "source": [
    "## Job Satisfaction vs Attrition"
   ]
  },
  {
   "cell_type": "code",
   "execution_count": 23,
   "id": "16139e36",
   "metadata": {},
   "outputs": [
    {
     "data": {
      "text/html": [
       "<div>\n",
       "<style scoped>\n",
       "    .dataframe tbody tr th:only-of-type {\n",
       "        vertical-align: middle;\n",
       "    }\n",
       "\n",
       "    .dataframe tbody tr th {\n",
       "        vertical-align: top;\n",
       "    }\n",
       "\n",
       "    .dataframe thead th {\n",
       "        text-align: right;\n",
       "    }\n",
       "</style>\n",
       "<table border=\"1\" class=\"dataframe\">\n",
       "  <thead>\n",
       "    <tr style=\"text-align: right;\">\n",
       "      <th>Attrition Status</th>\n",
       "      <th>Left</th>\n",
       "      <th>Stay</th>\n",
       "    </tr>\n",
       "    <tr>\n",
       "      <th>Job Satisfaction</th>\n",
       "      <th></th>\n",
       "      <th></th>\n",
       "    </tr>\n",
       "  </thead>\n",
       "  <tbody>\n",
       "    <tr>\n",
       "      <th>High</th>\n",
       "      <td>73</td>\n",
       "      <td>369</td>\n",
       "    </tr>\n",
       "    <tr>\n",
       "      <th>Low</th>\n",
       "      <td>66</td>\n",
       "      <td>223</td>\n",
       "    </tr>\n",
       "    <tr>\n",
       "      <th>Medium</th>\n",
       "      <td>46</td>\n",
       "      <td>234</td>\n",
       "    </tr>\n",
       "    <tr>\n",
       "      <th>Very High</th>\n",
       "      <td>52</td>\n",
       "      <td>407</td>\n",
       "    </tr>\n",
       "  </tbody>\n",
       "</table>\n",
       "</div>"
      ],
      "text/plain": [
       "Attrition Status  Left  Stay\n",
       "Job Satisfaction            \n",
       "High                73   369\n",
       "Low                 66   223\n",
       "Medium              46   234\n",
       "Very High           52   407"
      ]
     },
     "execution_count": 23,
     "metadata": {},
     "output_type": "execute_result"
    }
   ],
   "source": [
    "JobSatisfaction_attrition = pd.crosstab(index=df['Job Satisfaction'],columns=df['Attrition Status'])\n",
    "JobSatisfaction_attrition"
   ]
  },
  {
   "cell_type": "code",
   "execution_count": 24,
   "id": "0f070b5e",
   "metadata": {},
   "outputs": [
    {
     "data": {
      "image/png": "[encoded data removed]",
      "text/plain": [
       "<Figure size 640x480 with 1 Axes>"
      ]
     },
     "metadata": {},
     "output_type": "display_data"
    }
   ],
   "source": [
    "JobSatisfaction_attrition.plot(kind='bar')\n",
    "plt.title('Attrition by Job Satisfaction')\n",
    "plt.ylabel('Number of Employees')\n",
    "\n",
    "plt.show()"
   ]
  },
  {
   "cell_type": "code",
   "execution_count": 25,
   "id": "931e65ae",
   "metadata": {},
   "outputs": [
    {
     "data": {
      "text/plain": [
       "0.0005563004510387556"
      ]
     },
     "execution_count": 25,
     "metadata": {},
     "output_type": "execute_result"
    }
   ],
   "source": [
    "c, p, dof, expected = stats.chi2_contingency(JobSatisfaction_attrition)\n",
    "p"
   ]
  },
  {
   "cell_type": "markdown",
   "id": "f70391f4",
   "metadata": {},
   "source": [
    "###### From the graph plotted, we can say that the retention rate is high for employee with high Job Satisfaction."
   ]
  },
  {
   "cell_type": "markdown",
   "id": "26374c95",
   "metadata": {},
   "source": [
    "## Does the age of employees influence in attrition status?"
   ]
  },
  {
   "cell_type": "code",
   "execution_count": 26,
   "id": "186d37cf",
   "metadata": {},
   "outputs": [
    {
     "data": {
      "image/png": "[encoded data removed]",
      "text/plain": [
       "<Figure size 1200x400 with 1 Axes>"
      ]
     },
     "metadata": {},
     "output_type": "display_data"
    }
   ],
   "source": [
    "fig_dims = (12, 4)\n",
    "fig, ax = plt.subplots(figsize=fig_dims)\n",
    "\n",
    "sns.countplot(x='Age', \n",
    "              hue='Attrition Status', \n",
    "              data = df, \n",
    "              palette= \"colorblind\", \n",
    "              ax = ax,  \n",
    "              edgecolor=sns.color_palette(\"dark\", n_colors = 1));"
   ]
  },
  {
   "cell_type": "code",
   "execution_count": 27,
   "id": "f866318b",
   "metadata": {},
   "outputs": [
    {
     "data": {
      "text/html": [
       "<div>\n",
       "<style scoped>\n",
       "    .dataframe tbody tr th:only-of-type {\n",
       "        vertical-align: middle;\n",
       "    }\n",
       "\n",
       "    .dataframe tbody tr th {\n",
       "        vertical-align: top;\n",
       "    }\n",
       "\n",
       "    .dataframe thead th {\n",
       "        text-align: right;\n",
       "    }\n",
       "</style>\n",
       "<table border=\"1\" class=\"dataframe\">\n",
       "  <thead>\n",
       "    <tr style=\"text-align: right;\">\n",
       "      <th></th>\n",
       "      <th>Attrition Status</th>\n",
       "      <th>Age</th>\n",
       "    </tr>\n",
       "  </thead>\n",
       "  <tbody>\n",
       "    <tr>\n",
       "      <th>0</th>\n",
       "      <td>Left</td>\n",
       "      <td>33.61</td>\n",
       "    </tr>\n",
       "    <tr>\n",
       "      <th>1</th>\n",
       "      <td>Stay</td>\n",
       "      <td>37.56</td>\n",
       "    </tr>\n",
       "  </tbody>\n",
       "</table>\n",
       "</div>"
      ],
      "text/plain": [
       "  Attrition Status    Age\n",
       "0             Left  33.61\n",
       "1             Stay  37.56"
      ]
     },
     "execution_count": 27,
     "metadata": {},
     "output_type": "execute_result"
    }
   ],
   "source": [
    "meanAttrition_age = df.groupby('Attrition Status',as_index = False)['Age'].mean()\n",
    "meanAttrition_age = meanAttrition_age.round(2)\n",
    "meanAttrition_age"
   ]
  },
  {
   "cell_type": "code",
   "execution_count": 28,
   "id": "993f9c4b",
   "metadata": {},
   "outputs": [
    {
     "data": {
      "image/png": "[encoded data removed]",
      "text/plain": [
       "<Figure size 640x480 with 1 Axes>"
      ]
     },
     "metadata": {},
     "output_type": "display_data"
    }
   ],
   "source": [
    "sns.boxplot(x='Attrition Status',\n",
    "            y='Age',\n",
    "           data=df)\n",
    "plt.show()"
   ]
  },
  {
   "cell_type": "markdown",
   "id": "175bf522",
   "metadata": {},
   "source": [
    "The age of employees who left the company seems to be slightly younger than those employees who stay at company."
   ]
  },
  {
   "cell_type": "code",
   "execution_count": 29,
   "id": "a9417ddf",
   "metadata": {},
   "outputs": [
    {
     "data": {
      "text/plain": [
       "Attrition Status\n",
       "Stay    1233\n",
       "Left     237\n",
       "Name: count, dtype: int64"
      ]
     },
     "execution_count": 29,
     "metadata": {},
     "output_type": "execute_result"
    }
   ],
   "source": [
    "df['Attrition Status'].value_counts()"
   ]
  },
  {
   "cell_type": "code",
   "execution_count": 30,
   "id": "a9a5fa22",
   "metadata": {},
   "outputs": [],
   "source": [
    "#To check if mean Age of employee that leave is significantly different than employee who stay.\n",
    "#H null - There is no significant difference of mean age of employess between those stay or leave the company.\n",
    "#H alternative - There is a significant difference of mean age of employess between those stay or leave the company."
   ]
  },
  {
   "cell_type": "code",
   "execution_count": 31,
   "id": "3410d35e",
   "metadata": {},
   "outputs": [
    {
     "data": {
      "text/plain": [
       "LeveneResult(statistic=1.1583170677572885, pvalue=0.2819916793250208)"
      ]
     },
     "execution_count": 31,
     "metadata": {},
     "output_type": "execute_result"
    }
   ],
   "source": [
    "stats.levene(df['Age'][df['Attrition Status']=='Left'],\n",
    "             df['Age'][df['Attrition Status']=='Stay'],\n",
    "             center='mean')"
   ]
  },
  {
   "cell_type": "code",
   "execution_count": 32,
   "id": "cd492793",
   "metadata": {},
   "outputs": [
    {
     "data": {
      "text/plain": [
       "TtestResult(statistic=-6.178663835307217, pvalue=8.356308021103587e-10, df=1468.0)"
      ]
     },
     "execution_count": 32,
     "metadata": {},
     "output_type": "execute_result"
    }
   ],
   "source": [
    "stats.ttest_ind(df['Age'][df['Attrition Status']=='Left'],\n",
    "                df['Age'][df['Attrition Status']=='Stay'],\n",
    "                equal_var=True)"
   ]
  },
  {
   "cell_type": "markdown",
   "id": "3a22c5e6",
   "metadata": {},
   "source": [
    "##### Age have a significant effect on the attrition of employees. Employees who are younger tend to leave the company compare to those who are older"
   ]
  },
  {
   "cell_type": "markdown",
   "id": "7380505b",
   "metadata": {},
   "source": [
    "## Education Field vs Monthly Income"
   ]
  },
  {
   "cell_type": "code",
   "execution_count": 33,
   "id": "cde382cb",
   "metadata": {},
   "outputs": [
    {
     "data": {
      "text/plain": [
       "Index(['Age', 'BusinessTravel', 'MonthlyIncome', 'Job Satisfaction', 'Bonus',\n",
       "       'Department', 'DistanceFromHome', 'Education', 'EducationField',\n",
       "       'Environment Satisfaction', 'Gender', 'JobRole', 'MaritalStatus',\n",
       "       'PerformanceRating', 'TrainingTimesLastYear', 'YearsAtCompany',\n",
       "       'YearsSinceLastPromotion', 'OverTime', 'Attrition Status'],\n",
       "      dtype='object')"
      ]
     },
     "execution_count": 33,
     "metadata": {},
     "output_type": "execute_result"
    }
   ],
   "source": [
    "df.columns"
   ]
  },
  {
   "cell_type": "code",
   "execution_count": 34,
   "id": "c65deb17",
   "metadata": {},
   "outputs": [
    {
     "data": {
      "text/plain": [
       "EducationField\n",
       "Human Resources     7241.15\n",
       "Life Sciences       6463.29\n",
       "Marketing           7348.58\n",
       "Medical             6510.04\n",
       "Other               6071.55\n",
       "Technical Degree    5758.30\n",
       "Name: MonthlyIncome, dtype: float64"
      ]
     },
     "execution_count": 34,
     "metadata": {},
     "output_type": "execute_result"
    }
   ],
   "source": [
    "meanEdu_income = df.groupby('EducationField',as_index = True)['MonthlyIncome'].mean()\n",
    "meanEdu_income = meanEdu_income.round(2)\n",
    "meanEdu_income"
   ]
  },
  {
   "cell_type": "code",
   "execution_count": 35,
   "id": "6dfff2ba",
   "metadata": {},
   "outputs": [
    {
     "data": {
      "image/png": "[encoded data removed]",
      "text/plain": [
       "<Figure size 640x480 with 1 Axes>"
      ]
     },
     "metadata": {},
     "output_type": "display_data"
    }
   ],
   "source": [
    "meanEdu_income.plot(kind='bar')\n",
    "plt.title('Education Field vs Monthly Income')\n",
    "plt.ylabel('Average Monthly Income')\n",
    "\n",
    "plt.show()"
   ]
  },
  {
   "cell_type": "markdown",
   "id": "e2ce0092",
   "metadata": {},
   "source": [
    "## What is the relationship between monthly income and attrition status?"
   ]
  },
  {
   "cell_type": "code",
   "execution_count": 36,
   "id": "f53e6393",
   "metadata": {},
   "outputs": [
    {
     "data": {
      "text/html": [
       "<div>\n",
       "<style scoped>\n",
       "    .dataframe tbody tr th:only-of-type {\n",
       "        vertical-align: middle;\n",
       "    }\n",
       "\n",
       "    .dataframe tbody tr th {\n",
       "        vertical-align: top;\n",
       "    }\n",
       "\n",
       "    .dataframe thead th {\n",
       "        text-align: right;\n",
       "    }\n",
       "</style>\n",
       "<table border=\"1\" class=\"dataframe\">\n",
       "  <thead>\n",
       "    <tr style=\"text-align: right;\">\n",
       "      <th></th>\n",
       "      <th>Attrition Status</th>\n",
       "      <th>MonthlyIncome</th>\n",
       "    </tr>\n",
       "  </thead>\n",
       "  <tbody>\n",
       "    <tr>\n",
       "      <th>0</th>\n",
       "      <td>Left</td>\n",
       "      <td>4787.09</td>\n",
       "    </tr>\n",
       "    <tr>\n",
       "      <th>1</th>\n",
       "      <td>Stay</td>\n",
       "      <td>6832.74</td>\n",
       "    </tr>\n",
       "  </tbody>\n",
       "</table>\n",
       "</div>"
      ],
      "text/plain": [
       "  Attrition Status  MonthlyIncome\n",
       "0             Left        4787.09\n",
       "1             Stay        6832.74"
      ]
     },
     "execution_count": 36,
     "metadata": {},
     "output_type": "execute_result"
    }
   ],
   "source": [
    "meanAttrition_income = df.groupby('Attrition Status',as_index = False)['MonthlyIncome'].mean()\n",
    "meanAttrition_income = meanAttrition_income.round(2)\n",
    "meanAttrition_income"
   ]
  },
  {
   "cell_type": "code",
   "execution_count": 37,
   "id": "52526e24",
   "metadata": {},
   "outputs": [
    {
     "data": {
      "image/png": "[encoded data removed]",
      "text/plain": [
       "<Figure size 640x480 with 1 Axes>"
      ]
     },
     "metadata": {},
     "output_type": "display_data"
    }
   ],
   "source": [
    "sns.stripplot(x='Attrition Status', y='MonthlyIncome', data=df, jitter=True)\n",
    "plt.show()\n"
   ]
  },
  {
   "cell_type": "code",
   "execution_count": 38,
   "id": "aa1ecfba",
   "metadata": {},
   "outputs": [
    {
     "data": {
      "image/png": "[encoded data removed]",
      "text/plain": [
       "<Figure size 640x480 with 1 Axes>"
      ]
     },
     "metadata": {},
     "output_type": "display_data"
    }
   ],
   "source": [
    "sns.boxplot(x='Attrition Status',\n",
    "            y='MonthlyIncome',\n",
    "           data=df)\n",
    "plt.show()"
   ]
  },
  {
   "cell_type": "code",
   "execution_count": 39,
   "id": "e1617484",
   "metadata": {},
   "outputs": [],
   "source": [
    "#The employees with a lower monthly income is more likely to leave compared to the employees with higher monthly income\n",
    "\n",
    "#H-null - The monthly income of an employee has no significant effect on the attrition status.\n",
    "#H-alternative - The monthly income of an employee has a significant effect on the attrition status."
   ]
  },
  {
   "cell_type": "code",
   "execution_count": 40,
   "id": "539fc1fe",
   "metadata": {},
   "outputs": [
    {
     "data": {
      "text/plain": [
       "LeveneResult(statistic=26.31302358992364, pvalue=3.29070575711061e-07)"
      ]
     },
     "execution_count": 40,
     "metadata": {},
     "output_type": "execute_result"
    }
   ],
   "source": [
    "stats.levene(df['MonthlyIncome'][df['Attrition Status']=='Left'],\n",
    "             df['MonthlyIncome'][df['Attrition Status']=='Stay'],\n",
    "             center='mean')"
   ]
  },
  {
   "cell_type": "code",
   "execution_count": 41,
   "id": "567d88ae",
   "metadata": {},
   "outputs": [
    {
     "data": {
      "text/plain": [
       "TtestResult(statistic=-7.482621586644742, pvalue=4.433588628286071e-13, df=412.74074755747006)"
      ]
     },
     "execution_count": 41,
     "metadata": {},
     "output_type": "execute_result"
    }
   ],
   "source": [
    "stats.ttest_ind(df['MonthlyIncome'][df['Attrition Status']=='Left'],\n",
    "                df['MonthlyIncome'][df['Attrition Status']=='Stay'],\n",
    "                equal_var=False)"
   ]
  },
  {
   "cell_type": "markdown",
   "id": "133633f9",
   "metadata": {},
   "source": [
    "#### p-value < 0.05. Accept alternative hypothesis. The monthly income of an employee does have a significant impact on the attrition status"
   ]
  },
  {
   "cell_type": "markdown",
   "id": "473dd48c",
   "metadata": {},
   "source": [
    "### Job Role vs Salary"
   ]
  },
  {
   "cell_type": "code",
   "execution_count": 42,
   "id": "df6e5a13",
   "metadata": {},
   "outputs": [
    {
     "data": {
      "text/html": [
       "<div>\n",
       "<style scoped>\n",
       "    .dataframe tbody tr th:only-of-type {\n",
       "        vertical-align: middle;\n",
       "    }\n",
       "\n",
       "    .dataframe tbody tr th {\n",
       "        vertical-align: top;\n",
       "    }\n",
       "\n",
       "    .dataframe thead th {\n",
       "        text-align: right;\n",
       "    }\n",
       "</style>\n",
       "<table border=\"1\" class=\"dataframe\">\n",
       "  <thead>\n",
       "    <tr style=\"text-align: right;\">\n",
       "      <th></th>\n",
       "      <th>JobRole</th>\n",
       "      <th>MonthlyIncome</th>\n",
       "    </tr>\n",
       "  </thead>\n",
       "  <tbody>\n",
       "    <tr>\n",
       "      <th>0</th>\n",
       "      <td>Healthcare Representative</td>\n",
       "      <td>7528.76</td>\n",
       "    </tr>\n",
       "    <tr>\n",
       "      <th>1</th>\n",
       "      <td>Human Resources</td>\n",
       "      <td>4235.75</td>\n",
       "    </tr>\n",
       "    <tr>\n",
       "      <th>2</th>\n",
       "      <td>Laboratory Technician</td>\n",
       "      <td>3237.17</td>\n",
       "    </tr>\n",
       "    <tr>\n",
       "      <th>3</th>\n",
       "      <td>Manager</td>\n",
       "      <td>17181.68</td>\n",
       "    </tr>\n",
       "    <tr>\n",
       "      <th>4</th>\n",
       "      <td>Manufacturing Director</td>\n",
       "      <td>7295.14</td>\n",
       "    </tr>\n",
       "    <tr>\n",
       "      <th>5</th>\n",
       "      <td>Research Director</td>\n",
       "      <td>16033.55</td>\n",
       "    </tr>\n",
       "    <tr>\n",
       "      <th>6</th>\n",
       "      <td>Research Scientist</td>\n",
       "      <td>3239.97</td>\n",
       "    </tr>\n",
       "    <tr>\n",
       "      <th>7</th>\n",
       "      <td>Sales Executive</td>\n",
       "      <td>6924.28</td>\n",
       "    </tr>\n",
       "    <tr>\n",
       "      <th>8</th>\n",
       "      <td>Sales Representative</td>\n",
       "      <td>2626.00</td>\n",
       "    </tr>\n",
       "  </tbody>\n",
       "</table>\n",
       "</div>"
      ],
      "text/plain": [
       "                     JobRole  MonthlyIncome\n",
       "0  Healthcare Representative        7528.76\n",
       "1            Human Resources        4235.75\n",
       "2      Laboratory Technician        3237.17\n",
       "3                    Manager       17181.68\n",
       "4     Manufacturing Director        7295.14\n",
       "5          Research Director       16033.55\n",
       "6         Research Scientist        3239.97\n",
       "7            Sales Executive        6924.28\n",
       "8       Sales Representative        2626.00"
      ]
     },
     "execution_count": 42,
     "metadata": {},
     "output_type": "execute_result"
    }
   ],
   "source": [
    "meanRole_salary = df.groupby('JobRole',as_index = False)['MonthlyIncome'].mean()\n",
    "meanRole_salary = meanRole_salary.round(2)\n",
    "meanRole_salary\n"
   ]
  },
  {
   "cell_type": "code",
   "execution_count": 43,
   "id": "48df7798",
   "metadata": {},
   "outputs": [
    {
     "data": {
      "image/png": "[encoded data removed]",
      "text/plain": [
       "<Figure size 2200x500 with 1 Axes>"
      ]
     },
     "metadata": {},
     "output_type": "display_data"
    }
   ],
   "source": [
    "#fig, ax = plt.subplots(figsize=(, 5))\n",
    "plt.figure(figsize=(22,5))\n",
    "sns.boxplot(x='JobRole',\n",
    "            y='MonthlyIncome',\n",
    "           data=df)\n",
    "\n",
    "plt.grid(True, alpha=1)\n",
    "plt.show()"
   ]
  },
  {
   "cell_type": "markdown",
   "id": "d787a6ef",
   "metadata": {},
   "source": [
    "Managers and Research Director earn a relatively large sum. Intuitively, the attrition must have an inverse relationship with the monthly income parameter.\n",
    "\n",
    "Research Scientists, Lab. Technicians and Sales Rep positions are not well paid. Such factors would lead to attrition in these departments."
   ]
  },
  {
   "cell_type": "markdown",
   "id": "f3b40f1f",
   "metadata": {},
   "source": [
    "### Does the job role of an employee have a significant change on status of attrition?"
   ]
  },
  {
   "cell_type": "code",
   "execution_count": 44,
   "id": "52b9a865",
   "metadata": {},
   "outputs": [
    {
     "data": {
      "text/plain": [
       "JobRole\n",
       "Sales Executive              326\n",
       "Research Scientist           292\n",
       "Laboratory Technician        259\n",
       "Manufacturing Director       145\n",
       "Healthcare Representative    131\n",
       "Manager                      102\n",
       "Sales Representative          83\n",
       "Research Director             80\n",
       "Human Resources               52\n",
       "Name: count, dtype: int64"
      ]
     },
     "execution_count": 44,
     "metadata": {},
     "output_type": "execute_result"
    }
   ],
   "source": [
    "df['JobRole'].value_counts()"
   ]
  },
  {
   "cell_type": "code",
   "execution_count": 45,
   "id": "b6058f22",
   "metadata": {},
   "outputs": [
    {
     "data": {
      "image/png": "[encoded data removed]",
      "text/plain": [
       "<Figure size 700x500 with 1 Axes>"
      ]
     },
     "metadata": {},
     "output_type": "display_data"
    }
   ],
   "source": [
    "fig, ax = plt.subplots(figsize=(7, 5))\n",
    "ax = sns.countplot(y='JobRole',data=df)\n",
    "plt.show()"
   ]
  },
  {
   "cell_type": "code",
   "execution_count": 46,
   "id": "ea21853c",
   "metadata": {},
   "outputs": [
    {
     "data": {
      "text/html": [
       "<div>\n",
       "<style scoped>\n",
       "    .dataframe tbody tr th:only-of-type {\n",
       "        vertical-align: middle;\n",
       "    }\n",
       "\n",
       "    .dataframe tbody tr th {\n",
       "        vertical-align: top;\n",
       "    }\n",
       "\n",
       "    .dataframe thead th {\n",
       "        text-align: right;\n",
       "    }\n",
       "</style>\n",
       "<table border=\"1\" class=\"dataframe\">\n",
       "  <thead>\n",
       "    <tr style=\"text-align: right;\">\n",
       "      <th>Attrition Status</th>\n",
       "      <th>Left</th>\n",
       "      <th>Stay</th>\n",
       "    </tr>\n",
       "    <tr>\n",
       "      <th>JobRole</th>\n",
       "      <th></th>\n",
       "      <th></th>\n",
       "    </tr>\n",
       "  </thead>\n",
       "  <tbody>\n",
       "    <tr>\n",
       "      <th>Healthcare Representative</th>\n",
       "      <td>6.87</td>\n",
       "      <td>93.13</td>\n",
       "    </tr>\n",
       "    <tr>\n",
       "      <th>Human Resources</th>\n",
       "      <td>23.08</td>\n",
       "      <td>76.92</td>\n",
       "    </tr>\n",
       "    <tr>\n",
       "      <th>Laboratory Technician</th>\n",
       "      <td>23.94</td>\n",
       "      <td>76.06</td>\n",
       "    </tr>\n",
       "    <tr>\n",
       "      <th>Manager</th>\n",
       "      <td>4.90</td>\n",
       "      <td>95.10</td>\n",
       "    </tr>\n",
       "    <tr>\n",
       "      <th>Manufacturing Director</th>\n",
       "      <td>6.90</td>\n",
       "      <td>93.10</td>\n",
       "    </tr>\n",
       "    <tr>\n",
       "      <th>Research Director</th>\n",
       "      <td>2.50</td>\n",
       "      <td>97.50</td>\n",
       "    </tr>\n",
       "    <tr>\n",
       "      <th>Research Scientist</th>\n",
       "      <td>16.10</td>\n",
       "      <td>83.90</td>\n",
       "    </tr>\n",
       "    <tr>\n",
       "      <th>Sales Executive</th>\n",
       "      <td>17.48</td>\n",
       "      <td>82.52</td>\n",
       "    </tr>\n",
       "    <tr>\n",
       "      <th>Sales Representative</th>\n",
       "      <td>39.76</td>\n",
       "      <td>60.24</td>\n",
       "    </tr>\n",
       "  </tbody>\n",
       "</table>\n",
       "</div>"
      ],
      "text/plain": [
       "Attrition Status            Left   Stay\n",
       "JobRole                                \n",
       "Healthcare Representative   6.87  93.13\n",
       "Human Resources            23.08  76.92\n",
       "Laboratory Technician      23.94  76.06\n",
       "Manager                     4.90  95.10\n",
       "Manufacturing Director      6.90  93.10\n",
       "Research Director           2.50  97.50\n",
       "Research Scientist         16.10  83.90\n",
       "Sales Executive            17.48  82.52\n",
       "Sales Representative       39.76  60.24"
      ]
     },
     "execution_count": 46,
     "metadata": {},
     "output_type": "execute_result"
    }
   ],
   "source": [
    "Role_attritionprop = pd.crosstab(index=df['JobRole'],columns=df['Attrition Status'],normalize='index')*100\n",
    "Role_attritionprop.round(2)"
   ]
  },
  {
   "cell_type": "code",
   "execution_count": 47,
   "id": "06ddf6c0",
   "metadata": {},
   "outputs": [
    {
     "data": {
      "text/html": [
       "<div>\n",
       "<style scoped>\n",
       "    .dataframe tbody tr th:only-of-type {\n",
       "        vertical-align: middle;\n",
       "    }\n",
       "\n",
       "    .dataframe tbody tr th {\n",
       "        vertical-align: top;\n",
       "    }\n",
       "\n",
       "    .dataframe thead th {\n",
       "        text-align: right;\n",
       "    }\n",
       "</style>\n",
       "<table border=\"1\" class=\"dataframe\">\n",
       "  <thead>\n",
       "    <tr style=\"text-align: right;\">\n",
       "      <th>Attrition Status</th>\n",
       "      <th>Left</th>\n",
       "      <th>Stay</th>\n",
       "    </tr>\n",
       "    <tr>\n",
       "      <th>JobRole</th>\n",
       "      <th></th>\n",
       "      <th></th>\n",
       "    </tr>\n",
       "  </thead>\n",
       "  <tbody>\n",
       "    <tr>\n",
       "      <th>Healthcare Representative</th>\n",
       "      <td>9</td>\n",
       "      <td>122</td>\n",
       "    </tr>\n",
       "    <tr>\n",
       "      <th>Human Resources</th>\n",
       "      <td>12</td>\n",
       "      <td>40</td>\n",
       "    </tr>\n",
       "    <tr>\n",
       "      <th>Laboratory Technician</th>\n",
       "      <td>62</td>\n",
       "      <td>197</td>\n",
       "    </tr>\n",
       "    <tr>\n",
       "      <th>Manager</th>\n",
       "      <td>5</td>\n",
       "      <td>97</td>\n",
       "    </tr>\n",
       "    <tr>\n",
       "      <th>Manufacturing Director</th>\n",
       "      <td>10</td>\n",
       "      <td>135</td>\n",
       "    </tr>\n",
       "    <tr>\n",
       "      <th>Research Director</th>\n",
       "      <td>2</td>\n",
       "      <td>78</td>\n",
       "    </tr>\n",
       "    <tr>\n",
       "      <th>Research Scientist</th>\n",
       "      <td>47</td>\n",
       "      <td>245</td>\n",
       "    </tr>\n",
       "    <tr>\n",
       "      <th>Sales Executive</th>\n",
       "      <td>57</td>\n",
       "      <td>269</td>\n",
       "    </tr>\n",
       "    <tr>\n",
       "      <th>Sales Representative</th>\n",
       "      <td>33</td>\n",
       "      <td>50</td>\n",
       "    </tr>\n",
       "  </tbody>\n",
       "</table>\n",
       "</div>"
      ],
      "text/plain": [
       "Attrition Status           Left  Stay\n",
       "JobRole                              \n",
       "Healthcare Representative     9   122\n",
       "Human Resources              12    40\n",
       "Laboratory Technician        62   197\n",
       "Manager                       5    97\n",
       "Manufacturing Director       10   135\n",
       "Research Director             2    78\n",
       "Research Scientist           47   245\n",
       "Sales Executive              57   269\n",
       "Sales Representative         33    50"
      ]
     },
     "execution_count": 47,
     "metadata": {},
     "output_type": "execute_result"
    }
   ],
   "source": [
    "Role_attrition = pd.crosstab(index=df['JobRole'],columns=df['Attrition Status'])\n",
    "Role_attrition"
   ]
  },
  {
   "cell_type": "code",
   "execution_count": 48,
   "id": "258a3e8e",
   "metadata": {},
   "outputs": [
    {
     "data": {
      "image/png": "[encoded data removed]",
      "text/plain": [
       "<Figure size 640x480 with 1 Axes>"
      ]
     },
     "metadata": {},
     "output_type": "display_data"
    }
   ],
   "source": [
    "Role_attrition.plot(kind='bar')\n",
    "plt.title('Attrition by Job Role')\n",
    "plt.ylabel('Number of Employees')\n",
    "\n",
    "plt.show()"
   ]
  },
  {
   "cell_type": "code",
   "execution_count": 49,
   "id": "82c4e300",
   "metadata": {},
   "outputs": [
    {
     "data": {
      "text/plain": [
       "2.752481638050657e-15"
      ]
     },
     "execution_count": 49,
     "metadata": {},
     "output_type": "execute_result"
    }
   ],
   "source": [
    "c, p, dof, expected = stats.chi2_contingency(Role_attrition)\n",
    "p"
   ]
  },
  {
   "cell_type": "markdown",
   "id": "0c9ae54f",
   "metadata": {},
   "source": [
    "As expected, Research Scientist, Lab. Technicians and Sales Representatives have high attrition in their department, whereas Managers and Directors have little attrition. Low monthly income is one piece of evidence that supports a high attrition rate"
   ]
  },
  {
   "cell_type": "markdown",
   "id": "89506ae9",
   "metadata": {},
   "source": [
    "### Job Role vs Overtime"
   ]
  },
  {
   "cell_type": "code",
   "execution_count": 50,
   "id": "8e406573",
   "metadata": {},
   "outputs": [
    {
     "data": {
      "text/html": [
       "<div>\n",
       "<style scoped>\n",
       "    .dataframe tbody tr th:only-of-type {\n",
       "        vertical-align: middle;\n",
       "    }\n",
       "\n",
       "    .dataframe tbody tr th {\n",
       "        vertical-align: top;\n",
       "    }\n",
       "\n",
       "    .dataframe thead th {\n",
       "        text-align: right;\n",
       "    }\n",
       "</style>\n",
       "<table border=\"1\" class=\"dataframe\">\n",
       "  <thead>\n",
       "    <tr style=\"text-align: right;\">\n",
       "      <th>OverTime</th>\n",
       "      <th>No</th>\n",
       "      <th>Yes</th>\n",
       "    </tr>\n",
       "    <tr>\n",
       "      <th>JobRole</th>\n",
       "      <th></th>\n",
       "      <th></th>\n",
       "    </tr>\n",
       "  </thead>\n",
       "  <tbody>\n",
       "    <tr>\n",
       "      <th>Healthcare Representative</th>\n",
       "      <td>94</td>\n",
       "      <td>37</td>\n",
       "    </tr>\n",
       "    <tr>\n",
       "      <th>Human Resources</th>\n",
       "      <td>39</td>\n",
       "      <td>13</td>\n",
       "    </tr>\n",
       "    <tr>\n",
       "      <th>Laboratory Technician</th>\n",
       "      <td>197</td>\n",
       "      <td>62</td>\n",
       "    </tr>\n",
       "    <tr>\n",
       "      <th>Manager</th>\n",
       "      <td>75</td>\n",
       "      <td>27</td>\n",
       "    </tr>\n",
       "    <tr>\n",
       "      <th>Manufacturing Director</th>\n",
       "      <td>106</td>\n",
       "      <td>39</td>\n",
       "    </tr>\n",
       "    <tr>\n",
       "      <th>Research Director</th>\n",
       "      <td>57</td>\n",
       "      <td>23</td>\n",
       "    </tr>\n",
       "    <tr>\n",
       "      <th>Research Scientist</th>\n",
       "      <td>195</td>\n",
       "      <td>97</td>\n",
       "    </tr>\n",
       "    <tr>\n",
       "      <th>Sales Executive</th>\n",
       "      <td>232</td>\n",
       "      <td>94</td>\n",
       "    </tr>\n",
       "    <tr>\n",
       "      <th>Sales Representative</th>\n",
       "      <td>59</td>\n",
       "      <td>24</td>\n",
       "    </tr>\n",
       "  </tbody>\n",
       "</table>\n",
       "</div>"
      ],
      "text/plain": [
       "OverTime                    No  Yes\n",
       "JobRole                            \n",
       "Healthcare Representative   94   37\n",
       "Human Resources             39   13\n",
       "Laboratory Technician      197   62\n",
       "Manager                     75   27\n",
       "Manufacturing Director     106   39\n",
       "Research Director           57   23\n",
       "Research Scientist         195   97\n",
       "Sales Executive            232   94\n",
       "Sales Representative        59   24"
      ]
     },
     "execution_count": 50,
     "metadata": {},
     "output_type": "execute_result"
    }
   ],
   "source": [
    "Role_OT = pd.crosstab(index=df['JobRole'],columns=df['OverTime'])\n",
    "Role_OT = Role_OT.round(2)\n",
    "Role_OT"
   ]
  },
  {
   "cell_type": "code",
   "execution_count": 51,
   "id": "25e73959",
   "metadata": {},
   "outputs": [
    {
     "data": {
      "image/png": "[encoded data removed]",
      "text/plain": [
       "<Figure size 640x480 with 1 Axes>"
      ]
     },
     "metadata": {},
     "output_type": "display_data"
    }
   ],
   "source": [
    "Role_OT.plot(kind='bar')\n",
    "plt.ylabel('Number of Employees')\n",
    "plt.title('Relationship Between Job Role and Overtime')\n",
    "plt.show()"
   ]
  },
  {
   "cell_type": "markdown",
   "id": "ce3381ac",
   "metadata": {},
   "source": [
    "From the above plot, we can say that Research Scientist and Lab. Technicians deserves a pay raise in compensation, eventually resulting in fewer drop-outs from these departments. Such insights would immensely help in employee retention planning."
   ]
  },
  {
   "cell_type": "markdown",
   "id": "cdbd6724",
   "metadata": {},
   "source": [
    "### Is there any relationship between Overtime and Attrition Status?"
   ]
  },
  {
   "cell_type": "code",
   "execution_count": 52,
   "id": "ca36ad20",
   "metadata": {},
   "outputs": [
    {
     "data": {
      "text/html": [
       "<div>\n",
       "<style scoped>\n",
       "    .dataframe tbody tr th:only-of-type {\n",
       "        vertical-align: middle;\n",
       "    }\n",
       "\n",
       "    .dataframe tbody tr th {\n",
       "        vertical-align: top;\n",
       "    }\n",
       "\n",
       "    .dataframe thead th {\n",
       "        text-align: right;\n",
       "    }\n",
       "</style>\n",
       "<table border=\"1\" class=\"dataframe\">\n",
       "  <thead>\n",
       "    <tr style=\"text-align: right;\">\n",
       "      <th>OverTime</th>\n",
       "      <th>No</th>\n",
       "      <th>Yes</th>\n",
       "    </tr>\n",
       "    <tr>\n",
       "      <th>Attrition Status</th>\n",
       "      <th></th>\n",
       "      <th></th>\n",
       "    </tr>\n",
       "  </thead>\n",
       "  <tbody>\n",
       "    <tr>\n",
       "      <th>Left</th>\n",
       "      <td>46.41</td>\n",
       "      <td>53.59</td>\n",
       "    </tr>\n",
       "    <tr>\n",
       "      <th>Stay</th>\n",
       "      <td>76.56</td>\n",
       "      <td>23.44</td>\n",
       "    </tr>\n",
       "  </tbody>\n",
       "</table>\n",
       "</div>"
      ],
      "text/plain": [
       "OverTime             No    Yes\n",
       "Attrition Status              \n",
       "Left              46.41  53.59\n",
       "Stay              76.56  23.44"
      ]
     },
     "execution_count": 52,
     "metadata": {},
     "output_type": "execute_result"
    }
   ],
   "source": [
    "OverTime_attritionprop = pd.crosstab(index=df['Attrition Status'],columns=df['OverTime'],normalize='index')*100\n",
    "OverTime_attritionprop = OverTime_attritionprop.round(2)\n",
    "\n",
    "#edu_Attrition = edu_Attrition.sort_values(by=['Yes'], ascending=False)\n",
    "OverTime_attritionprop\n"
   ]
  },
  {
   "cell_type": "markdown",
   "id": "543ae0ae",
   "metadata": {},
   "source": [
    "The proportion of employees who left the company is slightly higher for those who work overtime compared to those who did not work overtime."
   ]
  },
  {
   "cell_type": "code",
   "execution_count": 53,
   "id": "422582ef",
   "metadata": {},
   "outputs": [
    {
     "data": {
      "text/html": [
       "<div>\n",
       "<style scoped>\n",
       "    .dataframe tbody tr th:only-of-type {\n",
       "        vertical-align: middle;\n",
       "    }\n",
       "\n",
       "    .dataframe tbody tr th {\n",
       "        vertical-align: top;\n",
       "    }\n",
       "\n",
       "    .dataframe thead th {\n",
       "        text-align: right;\n",
       "    }\n",
       "</style>\n",
       "<table border=\"1\" class=\"dataframe\">\n",
       "  <thead>\n",
       "    <tr style=\"text-align: right;\">\n",
       "      <th>OverTime</th>\n",
       "      <th>No</th>\n",
       "      <th>Yes</th>\n",
       "    </tr>\n",
       "    <tr>\n",
       "      <th>Attrition Status</th>\n",
       "      <th></th>\n",
       "      <th></th>\n",
       "    </tr>\n",
       "  </thead>\n",
       "  <tbody>\n",
       "    <tr>\n",
       "      <th>Left</th>\n",
       "      <td>110</td>\n",
       "      <td>127</td>\n",
       "    </tr>\n",
       "    <tr>\n",
       "      <th>Stay</th>\n",
       "      <td>944</td>\n",
       "      <td>289</td>\n",
       "    </tr>\n",
       "  </tbody>\n",
       "</table>\n",
       "</div>"
      ],
      "text/plain": [
       "OverTime           No  Yes\n",
       "Attrition Status          \n",
       "Left              110  127\n",
       "Stay              944  289"
      ]
     },
     "execution_count": 53,
     "metadata": {},
     "output_type": "execute_result"
    }
   ],
   "source": [
    "OverTime_attrition = pd.crosstab(index=df['Attrition Status'],columns=df['OverTime'])\n",
    "OverTime_attrition = OverTime_attrition.round(2)\n",
    "OverTime_attrition\n"
   ]
  },
  {
   "cell_type": "code",
   "execution_count": 54,
   "id": "026e7e03",
   "metadata": {},
   "outputs": [
    {
     "data": {
      "image/png": "[encoded data removed]",
      "text/plain": [
       "<Figure size 640x480 with 1 Axes>"
      ]
     },
     "metadata": {},
     "output_type": "display_data"
    }
   ],
   "source": [
    "OverTime_attrition.plot(kind='bar')\n",
    "plt.ylabel('Number of Employees')\n",
    "plt.title('Relationship Between Overtime and Attrition Status')\n",
    "plt.show()"
   ]
  },
  {
   "cell_type": "code",
   "execution_count": 55,
   "id": "95db31f6",
   "metadata": {},
   "outputs": [
    {
     "data": {
      "text/plain": [
       "8.15842372153832e-21"
      ]
     },
     "execution_count": 55,
     "metadata": {},
     "output_type": "execute_result"
    }
   ],
   "source": [
    "c, p, dof, expected = stats.chi2_contingency(OverTime_attrition)\n",
    "p"
   ]
  },
  {
   "cell_type": "markdown",
   "id": "8190cd57",
   "metadata": {},
   "source": [
    "H-null - There is no relationship between overtime and attrition status\n",
    "\n",
    "H-alternative - There is a relationship between overtime and attrition status\n",
    "\n",
    "p-value < 0.05, alternative hypothesis is accepted.\n",
    "\n",
    "The employee who does overtime is more likely to leave the company."
   ]
  },
  {
   "cell_type": "markdown",
   "id": "2648f88f",
   "metadata": {},
   "source": [
    "### Is there any relationship between attrition status and number of years of employee at company?"
   ]
  },
  {
   "cell_type": "code",
   "execution_count": 56,
   "id": "c83a56f8",
   "metadata": {},
   "outputs": [
    {
     "data": {
      "text/html": [
       "<div>\n",
       "<style scoped>\n",
       "    .dataframe tbody tr th:only-of-type {\n",
       "        vertical-align: middle;\n",
       "    }\n",
       "\n",
       "    .dataframe tbody tr th {\n",
       "        vertical-align: top;\n",
       "    }\n",
       "\n",
       "    .dataframe thead th {\n",
       "        text-align: right;\n",
       "    }\n",
       "</style>\n",
       "<table border=\"1\" class=\"dataframe\">\n",
       "  <thead>\n",
       "    <tr style=\"text-align: right;\">\n",
       "      <th></th>\n",
       "      <th>Attrition Status</th>\n",
       "      <th>YearsAtCompany</th>\n",
       "    </tr>\n",
       "  </thead>\n",
       "  <tbody>\n",
       "    <tr>\n",
       "      <th>0</th>\n",
       "      <td>Left</td>\n",
       "      <td>5.13</td>\n",
       "    </tr>\n",
       "    <tr>\n",
       "      <th>1</th>\n",
       "      <td>Stay</td>\n",
       "      <td>7.37</td>\n",
       "    </tr>\n",
       "  </tbody>\n",
       "</table>\n",
       "</div>"
      ],
      "text/plain": [
       "  Attrition Status  YearsAtCompany\n",
       "0             Left            5.13\n",
       "1             Stay            7.37"
      ]
     },
     "execution_count": 56,
     "metadata": {},
     "output_type": "execute_result"
    }
   ],
   "source": [
    "meanAttrition_years = df.groupby('Attrition Status',as_index = False)['YearsAtCompany'].mean()\n",
    "meanAttrition_years = meanAttrition_years.round(2)\n",
    "meanAttrition_years\n"
   ]
  },
  {
   "cell_type": "markdown",
   "id": "1a704bb7",
   "metadata": {},
   "source": [
    "The employee who leaves the company have a lower average of years in company compared to those who stay.\n",
    "\n",
    "The lower the number of years of an employee at the company, the more likely for employee to leave."
   ]
  },
  {
   "cell_type": "code",
   "execution_count": 57,
   "id": "36aa5ee1",
   "metadata": {},
   "outputs": [
    {
     "data": {
      "image/png": "[encoded data removed]",
      "text/plain": [
       "<Figure size 640x480 with 1 Axes>"
      ]
     },
     "metadata": {},
     "output_type": "display_data"
    }
   ],
   "source": [
    "meanAttrition_years.plot(kind='bar')\n",
    "plt.xlabel('Attrition Status')\n",
    "plt.ylabel('Years at Company')\n",
    "plt.show()"
   ]
  },
  {
   "cell_type": "code",
   "execution_count": 58,
   "id": "80ae10a1",
   "metadata": {},
   "outputs": [
    {
     "data": {
      "image/png": "[encoded data removed]",
      "text/plain": [
       "<Figure size 640x480 with 1 Axes>"
      ]
     },
     "metadata": {},
     "output_type": "display_data"
    }
   ],
   "source": [
    "sns.boxplot(x='Attrition Status',\n",
    "            y='YearsAtCompany',\n",
    "           data=df)\n",
    "plt.show()"
   ]
  },
  {
   "cell_type": "markdown",
   "id": "f82f48c9",
   "metadata": {},
   "source": [
    "H-null - The number of years spent by an employee in the company do not have any relationship with attrition status\n",
    "\n",
    "H-alternative - The number of years spent by an employee in the company do have a relationship with attrition status"
   ]
  },
  {
   "cell_type": "code",
   "execution_count": 59,
   "id": "87030a0c",
   "metadata": {},
   "outputs": [
    {
     "data": {
      "text/plain": [
       "LeveneResult(statistic=2.5049476586425445, pvalue=0.11370465713766563)"
      ]
     },
     "execution_count": 59,
     "metadata": {},
     "output_type": "execute_result"
    }
   ],
   "source": [
    "stats.levene(df['YearsAtCompany'][df['Attrition Status']=='Left'],\n",
    "             df['YearsAtCompany'][df['Attrition Status']=='Stay'],\n",
    "             center='mean')"
   ]
  },
  {
   "cell_type": "code",
   "execution_count": 60,
   "id": "299ee25c",
   "metadata": {},
   "outputs": [
    {
     "data": {
      "text/plain": [
       "TtestResult(statistic=-5.1963086670254235, pvalue=2.3188716103863028e-07, df=1468.0)"
      ]
     },
     "execution_count": 60,
     "metadata": {},
     "output_type": "execute_result"
    }
   ],
   "source": [
    "stats.ttest_ind(df['YearsAtCompany'][df['Attrition Status']=='Left'],\n",
    "                df['YearsAtCompany'][df['Attrition Status']=='Stay'],\n",
    "                equal_var=True)"
   ]
  },
  {
   "cell_type": "markdown",
   "id": "fecca25b",
   "metadata": {},
   "source": [
    "p-value < 0.05, alternative hypothesis is accepted.\n",
    "\n",
    "The number of years spent by an employee in the company does have an effect to the attrition status\n",
    "\n",
    "The employee who has been in the company for a shorter period of time is more likely to leave the company."
   ]
  },
  {
   "cell_type": "markdown",
   "id": "82563f95",
   "metadata": {},
   "source": [
    "### Does the marital status of an employee influence them to leave the company?"
   ]
  },
  {
   "cell_type": "code",
   "execution_count": 61,
   "id": "838463c4",
   "metadata": {},
   "outputs": [
    {
     "data": {
      "text/plain": [
       "MaritalStatus\n",
       "Married     673\n",
       "Single      470\n",
       "Divorced    327\n",
       "Name: count, dtype: int64"
      ]
     },
     "execution_count": 61,
     "metadata": {},
     "output_type": "execute_result"
    }
   ],
   "source": [
    "Marital_status = df['MaritalStatus'].value_counts()\n",
    "Marital_status"
   ]
  },
  {
   "cell_type": "code",
   "execution_count": 62,
   "id": "cc71aa4c",
   "metadata": {},
   "outputs": [
    {
     "data": {
      "image/png": "[encoded data removed]",
      "text/plain": [
       "<Figure size 640x480 with 1 Axes>"
      ]
     },
     "metadata": {},
     "output_type": "display_data"
    }
   ],
   "source": [
    "Marital_status.plot(kind='bar')\n",
    "plt.ylabel('Number of Employees')\n",
    "plt.title('Marital Status Among Employees')\n",
    "plt.show()"
   ]
  },
  {
   "cell_type": "code",
   "execution_count": 63,
   "id": "19c368fa",
   "metadata": {},
   "outputs": [
    {
     "data": {
      "text/html": [
       "<div>\n",
       "<style scoped>\n",
       "    .dataframe tbody tr th:only-of-type {\n",
       "        vertical-align: middle;\n",
       "    }\n",
       "\n",
       "    .dataframe tbody tr th {\n",
       "        vertical-align: top;\n",
       "    }\n",
       "\n",
       "    .dataframe thead th {\n",
       "        text-align: right;\n",
       "    }\n",
       "</style>\n",
       "<table border=\"1\" class=\"dataframe\">\n",
       "  <thead>\n",
       "    <tr style=\"text-align: right;\">\n",
       "      <th>Attrition Status</th>\n",
       "      <th>Left</th>\n",
       "      <th>Stay</th>\n",
       "    </tr>\n",
       "    <tr>\n",
       "      <th>MaritalStatus</th>\n",
       "      <th></th>\n",
       "      <th></th>\n",
       "    </tr>\n",
       "  </thead>\n",
       "  <tbody>\n",
       "    <tr>\n",
       "      <th>Divorced</th>\n",
       "      <td>10.09</td>\n",
       "      <td>89.91</td>\n",
       "    </tr>\n",
       "    <tr>\n",
       "      <th>Married</th>\n",
       "      <td>12.48</td>\n",
       "      <td>87.52</td>\n",
       "    </tr>\n",
       "    <tr>\n",
       "      <th>Single</th>\n",
       "      <td>25.53</td>\n",
       "      <td>74.47</td>\n",
       "    </tr>\n",
       "  </tbody>\n",
       "</table>\n",
       "</div>"
      ],
      "text/plain": [
       "Attrition Status   Left   Stay\n",
       "MaritalStatus                 \n",
       "Divorced          10.09  89.91\n",
       "Married           12.48  87.52\n",
       "Single            25.53  74.47"
      ]
     },
     "execution_count": 63,
     "metadata": {},
     "output_type": "execute_result"
    }
   ],
   "source": [
    "Married_attritionprop = pd.crosstab(index=df['MaritalStatus'],columns=df['Attrition Status'],normalize='index')*100\n",
    "Married_attritionprop.round(2)"
   ]
  },
  {
   "cell_type": "code",
   "execution_count": 64,
   "id": "9f06148b",
   "metadata": {},
   "outputs": [
    {
     "data": {
      "text/html": [
       "<div>\n",
       "<style scoped>\n",
       "    .dataframe tbody tr th:only-of-type {\n",
       "        vertical-align: middle;\n",
       "    }\n",
       "\n",
       "    .dataframe tbody tr th {\n",
       "        vertical-align: top;\n",
       "    }\n",
       "\n",
       "    .dataframe thead th {\n",
       "        text-align: right;\n",
       "    }\n",
       "</style>\n",
       "<table border=\"1\" class=\"dataframe\">\n",
       "  <thead>\n",
       "    <tr style=\"text-align: right;\">\n",
       "      <th>Attrition Status</th>\n",
       "      <th>Left</th>\n",
       "      <th>Stay</th>\n",
       "    </tr>\n",
       "    <tr>\n",
       "      <th>MaritalStatus</th>\n",
       "      <th></th>\n",
       "      <th></th>\n",
       "    </tr>\n",
       "  </thead>\n",
       "  <tbody>\n",
       "    <tr>\n",
       "      <th>Divorced</th>\n",
       "      <td>33</td>\n",
       "      <td>294</td>\n",
       "    </tr>\n",
       "    <tr>\n",
       "      <th>Married</th>\n",
       "      <td>84</td>\n",
       "      <td>589</td>\n",
       "    </tr>\n",
       "    <tr>\n",
       "      <th>Single</th>\n",
       "      <td>120</td>\n",
       "      <td>350</td>\n",
       "    </tr>\n",
       "  </tbody>\n",
       "</table>\n",
       "</div>"
      ],
      "text/plain": [
       "Attrition Status  Left  Stay\n",
       "MaritalStatus               \n",
       "Divorced            33   294\n",
       "Married             84   589\n",
       "Single             120   350"
      ]
     },
     "execution_count": 64,
     "metadata": {},
     "output_type": "execute_result"
    }
   ],
   "source": [
    "Married_attrition = pd.crosstab(index=df['MaritalStatus'],columns=df['Attrition Status'])\n",
    "Married_attrition"
   ]
  },
  {
   "cell_type": "code",
   "execution_count": 65,
   "id": "85b73b68",
   "metadata": {},
   "outputs": [
    {
     "data": {
      "image/png": "[encoded data removed]",
      "text/plain": [
       "<Figure size 640x480 with 1 Axes>"
      ]
     },
     "metadata": {},
     "output_type": "display_data"
    }
   ],
   "source": [
    "Married_attrition.plot(kind='bar')\n",
    "plt.ylabel('Number of Employees')\n",
    "\n",
    "plt.show()"
   ]
  },
  {
   "cell_type": "code",
   "execution_count": 66,
   "id": "c874f261",
   "metadata": {},
   "outputs": [
    {
     "data": {
      "text/plain": [
       "9.45551106034083e-11"
      ]
     },
     "execution_count": 66,
     "metadata": {},
     "output_type": "execute_result"
    }
   ],
   "source": [
    "c, p, dof, expected = stats.chi2_contingency(Married_attrition)\n",
    "p"
   ]
  },
  {
   "cell_type": "markdown",
   "id": "66f854cc",
   "metadata": {},
   "source": [
    "Employees who are single is more likely to leave the company."
   ]
  },
  {
   "cell_type": "markdown",
   "id": "8bfd431f",
   "metadata": {},
   "source": [
    "### Is the attrition status of an employee influenced by the years since last promotion?"
   ]
  },
  {
   "cell_type": "code",
   "execution_count": 67,
   "id": "b17b781e",
   "metadata": {},
   "outputs": [
    {
     "data": {
      "text/html": [
       "<div>\n",
       "<style scoped>\n",
       "    .dataframe tbody tr th:only-of-type {\n",
       "        vertical-align: middle;\n",
       "    }\n",
       "\n",
       "    .dataframe tbody tr th {\n",
       "        vertical-align: top;\n",
       "    }\n",
       "\n",
       "    .dataframe thead th {\n",
       "        text-align: right;\n",
       "    }\n",
       "</style>\n",
       "<table border=\"1\" class=\"dataframe\">\n",
       "  <thead>\n",
       "    <tr style=\"text-align: right;\">\n",
       "      <th></th>\n",
       "      <th>Attrition Status</th>\n",
       "      <th>YearsSinceLastPromotion</th>\n",
       "    </tr>\n",
       "  </thead>\n",
       "  <tbody>\n",
       "    <tr>\n",
       "      <th>0</th>\n",
       "      <td>Left</td>\n",
       "      <td>1.95</td>\n",
       "    </tr>\n",
       "    <tr>\n",
       "      <th>1</th>\n",
       "      <td>Stay</td>\n",
       "      <td>2.23</td>\n",
       "    </tr>\n",
       "  </tbody>\n",
       "</table>\n",
       "</div>"
      ],
      "text/plain": [
       "  Attrition Status  YearsSinceLastPromotion\n",
       "0             Left                     1.95\n",
       "1             Stay                     2.23"
      ]
     },
     "execution_count": 67,
     "metadata": {},
     "output_type": "execute_result"
    }
   ],
   "source": [
    "meanAttrition_promo = df.groupby('Attrition Status',as_index = False)['YearsSinceLastPromotion'].mean()\n",
    "meanAttrition_promo = meanAttrition_promo.round(2)\n",
    "meanAttrition_promo"
   ]
  },
  {
   "cell_type": "code",
   "execution_count": 68,
   "id": "ef0a580f",
   "metadata": {},
   "outputs": [
    {
     "data": {
      "image/png": "[encoded data removed]",
      "text/plain": [
       "<Figure size 640x480 with 1 Axes>"
      ]
     },
     "metadata": {},
     "output_type": "display_data"
    }
   ],
   "source": [
    "sns.boxplot(x='Attrition Status',\n",
    "            y='YearsSinceLastPromotion',\n",
    "           data=df)\n",
    "plt.show()"
   ]
  },
  {
   "cell_type": "markdown",
   "id": "5138dca0",
   "metadata": {},
   "source": [
    "H-null - There is no relationship between the years since last promotion and attrition status\n",
    "\n",
    "H-alternative - There is a relationship between the years since last promotion and attrition status\n",
    "\n"
   ]
  },
  {
   "cell_type": "code",
   "execution_count": 69,
   "id": "ff9acb11",
   "metadata": {},
   "outputs": [
    {
     "data": {
      "text/plain": [
       "LeveneResult(statistic=1.2865078146687527, pvalue=0.25687769398884447)"
      ]
     },
     "execution_count": 69,
     "metadata": {},
     "output_type": "execute_result"
    }
   ],
   "source": [
    "stats.levene(df['YearsSinceLastPromotion'][df['Attrition Status']=='Left'],\n",
    "             df['YearsSinceLastPromotion'][df['Attrition Status']=='Stay'],\n",
    "             center='mean')"
   ]
  },
  {
   "cell_type": "code",
   "execution_count": 70,
   "id": "837b812c",
   "metadata": {},
   "outputs": [
    {
     "data": {
      "text/plain": [
       "TtestResult(statistic=-1.2657876620135298, pvalue=0.2057899591624936, df=1468.0)"
      ]
     },
     "execution_count": 70,
     "metadata": {},
     "output_type": "execute_result"
    }
   ],
   "source": [
    "stats.ttest_ind(df['YearsSinceLastPromotion'][df['Attrition Status']=='Left'],\n",
    "                df['YearsSinceLastPromotion'][df['Attrition Status']=='Stay'],\n",
    "                equal_var=True)"
   ]
  },
  {
   "cell_type": "markdown",
   "id": "f0607569",
   "metadata": {},
   "source": [
    "p-value > 0.05. Null Hypothesis is accepted.\n",
    "\n",
    "There is no relationship between number of years since last promotion and attrition status\n",
    "\n",
    "The number of years since last promotion does not affect the attrition status of an employee"
   ]
  },
  {
   "cell_type": "markdown",
   "id": "47573484",
   "metadata": {},
   "source": [
    "### Is the attrition status of an employee influenced by education?"
   ]
  },
  {
   "cell_type": "code",
   "execution_count": 73,
   "id": "cf85eac8",
   "metadata": {
    "scrolled": true
   },
   "outputs": [
    {
     "data": {
      "text/plain": [
       "Education\n",
       "Degree           572\n",
       "Masters          398\n",
       "College          282\n",
       "Below College    170\n",
       "PhD               48\n",
       "Name: count, dtype: int64"
      ]
     },
     "execution_count": 73,
     "metadata": {},
     "output_type": "execute_result"
    }
   ],
   "source": [
    "Education_level = df['Education'].value_counts()\n",
    "Education_level"
   ]
  },
  {
   "cell_type": "code",
   "execution_count": 74,
   "id": "8bbabe2f",
   "metadata": {},
   "outputs": [
    {
     "data": {
      "text/plain": [
       "Education\n",
       "Degree           38.911565\n",
       "Masters          27.074830\n",
       "College          19.183673\n",
       "Below College    11.564626\n",
       "PhD               3.265306\n",
       "Name: proportion, dtype: float64"
      ]
     },
     "execution_count": 74,
     "metadata": {},
     "output_type": "execute_result"
    }
   ],
   "source": [
    "Education_levelprop = df['Education'].value_counts(normalize=True)*100\n",
    "Education_levelprop"
   ]
  },
  {
   "cell_type": "code",
   "execution_count": 75,
   "id": "1668437a",
   "metadata": {},
   "outputs": [
    {
     "data": {
      "image/png": "[encoded data removed]",
      "text/plain": [
       "<Figure size 640x480 with 1 Axes>"
      ]
     },
     "metadata": {},
     "output_type": "display_data"
    }
   ],
   "source": [
    "Education_level.plot(kind='bar')\n",
    "plt.ylabel('Number of Employees')\n",
    "\n",
    "plt.show()\n"
   ]
  },
  {
   "cell_type": "code",
   "execution_count": 76,
   "id": "2b8fcc75",
   "metadata": {},
   "outputs": [
    {
     "data": {
      "text/html": [
       "<div>\n",
       "<style scoped>\n",
       "    .dataframe tbody tr th:only-of-type {\n",
       "        vertical-align: middle;\n",
       "    }\n",
       "\n",
       "    .dataframe tbody tr th {\n",
       "        vertical-align: top;\n",
       "    }\n",
       "\n",
       "    .dataframe thead th {\n",
       "        text-align: right;\n",
       "    }\n",
       "</style>\n",
       "<table border=\"1\" class=\"dataframe\">\n",
       "  <thead>\n",
       "    <tr style=\"text-align: right;\">\n",
       "      <th>Attrition Status</th>\n",
       "      <th>Left</th>\n",
       "      <th>Stay</th>\n",
       "    </tr>\n",
       "    <tr>\n",
       "      <th>Education</th>\n",
       "      <th></th>\n",
       "      <th></th>\n",
       "    </tr>\n",
       "  </thead>\n",
       "  <tbody>\n",
       "    <tr>\n",
       "      <th>Below College</th>\n",
       "      <td>31</td>\n",
       "      <td>139</td>\n",
       "    </tr>\n",
       "    <tr>\n",
       "      <th>College</th>\n",
       "      <td>44</td>\n",
       "      <td>238</td>\n",
       "    </tr>\n",
       "    <tr>\n",
       "      <th>Degree</th>\n",
       "      <td>99</td>\n",
       "      <td>473</td>\n",
       "    </tr>\n",
       "    <tr>\n",
       "      <th>Masters</th>\n",
       "      <td>58</td>\n",
       "      <td>340</td>\n",
       "    </tr>\n",
       "    <tr>\n",
       "      <th>PhD</th>\n",
       "      <td>5</td>\n",
       "      <td>43</td>\n",
       "    </tr>\n",
       "  </tbody>\n",
       "</table>\n",
       "</div>"
      ],
      "text/plain": [
       "Attrition Status  Left  Stay\n",
       "Education                   \n",
       "Below College       31   139\n",
       "College             44   238\n",
       "Degree              99   473\n",
       "Masters             58   340\n",
       "PhD                  5    43"
      ]
     },
     "execution_count": 76,
     "metadata": {},
     "output_type": "execute_result"
    }
   ],
   "source": [
    "Education_attrition = pd.crosstab(index=df['Education'],columns=df['Attrition Status'])\n",
    "Education_attrition"
   ]
  },
  {
   "cell_type": "code",
   "execution_count": 77,
   "id": "d0165c56",
   "metadata": {},
   "outputs": [
    {
     "data": {
      "image/png": "[encoded data removed]",
      "text/plain": [
       "<Figure size 640x480 with 1 Axes>"
      ]
     },
     "metadata": {},
     "output_type": "display_data"
    }
   ],
   "source": [
    "Education_attrition.plot(kind='bar')\n",
    "plt.ylabel('Number of Employees')\n",
    "\n",
    "plt.show()"
   ]
  },
  {
   "cell_type": "code",
   "execution_count": 79,
   "id": "0ac7bf10",
   "metadata": {},
   "outputs": [
    {
     "data": {
      "text/plain": [
       "0.5455253376565949"
      ]
     },
     "execution_count": 79,
     "metadata": {},
     "output_type": "execute_result"
    }
   ],
   "source": [
    "c, p, dof, expected = stats.chi2_contingency(Education_attrition)\n",
    "p"
   ]
  },
  {
   "cell_type": "markdown",
   "id": "c20e35c7",
   "metadata": {},
   "source": [
    "H-null - There is no relationship between education level and attrition status\n",
    "\n",
    "H-alternative - There is a relationship between education level and attrition status\n",
    "\n",
    "p-value > 0.05. Null Hypothesis is accepted.\n",
    "\n",
    "There is no relationship between education and attrition status\n",
    "\n",
    "The level of education does not affect the attrition status of an employee"
   ]
  },
  {
   "cell_type": "markdown",
   "id": "0189f25a",
   "metadata": {},
   "source": [
    "### Business Travel and Attrition Status"
   ]
  },
  {
   "cell_type": "code",
   "execution_count": 80,
   "id": "d7f20999",
   "metadata": {},
   "outputs": [
    {
     "data": {
      "text/plain": [
       "Index(['Age', 'BusinessTravel', 'MonthlyIncome', 'Job Satisfaction', 'Bonus',\n",
       "       'Department', 'DistanceFromHome', 'Education', 'EducationField',\n",
       "       'Environment Satisfaction', 'Gender', 'JobRole', 'MaritalStatus',\n",
       "       'PerformanceRating', 'TrainingTimesLastYear', 'YearsAtCompany',\n",
       "       'YearsSinceLastPromotion', 'OverTime', 'Attrition Status'],\n",
       "      dtype='object')"
      ]
     },
     "execution_count": 80,
     "metadata": {},
     "output_type": "execute_result"
    }
   ],
   "source": [
    "df.columns"
   ]
  },
  {
   "cell_type": "code",
   "execution_count": 81,
   "id": "39d2f3dc",
   "metadata": {},
   "outputs": [
    {
     "data": {
      "text/html": [
       "<div>\n",
       "<style scoped>\n",
       "    .dataframe tbody tr th:only-of-type {\n",
       "        vertical-align: middle;\n",
       "    }\n",
       "\n",
       "    .dataframe tbody tr th {\n",
       "        vertical-align: top;\n",
       "    }\n",
       "\n",
       "    .dataframe thead th {\n",
       "        text-align: right;\n",
       "    }\n",
       "</style>\n",
       "<table border=\"1\" class=\"dataframe\">\n",
       "  <thead>\n",
       "    <tr style=\"text-align: right;\">\n",
       "      <th>Attrition Status</th>\n",
       "      <th>Left</th>\n",
       "      <th>Stay</th>\n",
       "    </tr>\n",
       "    <tr>\n",
       "      <th>BusinessTravel</th>\n",
       "      <th></th>\n",
       "      <th></th>\n",
       "    </tr>\n",
       "  </thead>\n",
       "  <tbody>\n",
       "    <tr>\n",
       "      <th>Non-Travel</th>\n",
       "      <td>12</td>\n",
       "      <td>138</td>\n",
       "    </tr>\n",
       "    <tr>\n",
       "      <th>Travel_Frequently</th>\n",
       "      <td>69</td>\n",
       "      <td>208</td>\n",
       "    </tr>\n",
       "    <tr>\n",
       "      <th>Travel_Rarely</th>\n",
       "      <td>156</td>\n",
       "      <td>887</td>\n",
       "    </tr>\n",
       "  </tbody>\n",
       "</table>\n",
       "</div>"
      ],
      "text/plain": [
       "Attrition Status   Left  Stay\n",
       "BusinessTravel               \n",
       "Non-Travel           12   138\n",
       "Travel_Frequently    69   208\n",
       "Travel_Rarely       156   887"
      ]
     },
     "execution_count": 81,
     "metadata": {},
     "output_type": "execute_result"
    }
   ],
   "source": [
    "Travel_attrition = pd.crosstab(index=df['BusinessTravel'],columns=df['Attrition Status'])\n",
    "Travel_attrition"
   ]
  },
  {
   "cell_type": "code",
   "execution_count": 82,
   "id": "04de7a52",
   "metadata": {},
   "outputs": [
    {
     "data": {
      "image/png": "[encoded data removed]",
      "text/plain": [
       "<Figure size 640x480 with 1 Axes>"
      ]
     },
     "metadata": {},
     "output_type": "display_data"
    }
   ],
   "source": [
    "Travel_attrition.plot(kind='bar')\n",
    "plt.ylabel('Number of Employees')\n",
    "\n",
    "plt.show()"
   ]
  },
  {
   "cell_type": "code",
   "execution_count": 83,
   "id": "dc366687",
   "metadata": {},
   "outputs": [
    {
     "data": {
      "text/plain": [
       "5.608614476449931e-06"
      ]
     },
     "execution_count": 83,
     "metadata": {},
     "output_type": "execute_result"
    }
   ],
   "source": [
    "c, p, dof, expected = stats.chi2_contingency(Travel_attrition)\n",
    "p"
   ]
  },
  {
   "cell_type": "markdown",
   "id": "01a3f1f1",
   "metadata": {},
   "source": [
    "H-null - There is no relationship between business travel  and attrition status\n",
    "\n",
    "H-alternative - There is a relationship between business travel and attrition status\n",
    "\n",
    "p-value > 0.05. alternative hypothesis is accepted.\n",
    "\n",
    "There is a relationship between business travel and attrition status\n",
    "\n",
    "The employee who travel frequently is more likely to leave the company"
   ]
  },
  {
   "cell_type": "markdown",
   "id": "588e0e2c",
   "metadata": {},
   "source": [
    "### Is there any difference in employee attrition based on department?"
   ]
  },
  {
   "cell_type": "code",
   "execution_count": 84,
   "id": "59c011ed",
   "metadata": {},
   "outputs": [
    {
     "data": {
      "text/plain": [
       "Index(['Age', 'BusinessTravel', 'MonthlyIncome', 'Job Satisfaction', 'Bonus',\n",
       "       'Department', 'DistanceFromHome', 'Education', 'EducationField',\n",
       "       'Environment Satisfaction', 'Gender', 'JobRole', 'MaritalStatus',\n",
       "       'PerformanceRating', 'TrainingTimesLastYear', 'YearsAtCompany',\n",
       "       'YearsSinceLastPromotion', 'OverTime', 'Attrition Status'],\n",
       "      dtype='object')"
      ]
     },
     "execution_count": 84,
     "metadata": {},
     "output_type": "execute_result"
    }
   ],
   "source": [
    "df.columns"
   ]
  },
  {
   "cell_type": "code",
   "execution_count": 85,
   "id": "fcbcf612",
   "metadata": {},
   "outputs": [
    {
     "data": {
      "text/html": [
       "<div>\n",
       "<style scoped>\n",
       "    .dataframe tbody tr th:only-of-type {\n",
       "        vertical-align: middle;\n",
       "    }\n",
       "\n",
       "    .dataframe tbody tr th {\n",
       "        vertical-align: top;\n",
       "    }\n",
       "\n",
       "    .dataframe thead th {\n",
       "        text-align: right;\n",
       "    }\n",
       "</style>\n",
       "<table border=\"1\" class=\"dataframe\">\n",
       "  <thead>\n",
       "    <tr style=\"text-align: right;\">\n",
       "      <th>Attrition Status</th>\n",
       "      <th>Left</th>\n",
       "      <th>Stay</th>\n",
       "    </tr>\n",
       "    <tr>\n",
       "      <th>Department</th>\n",
       "      <th></th>\n",
       "      <th></th>\n",
       "    </tr>\n",
       "  </thead>\n",
       "  <tbody>\n",
       "    <tr>\n",
       "      <th>Human Resources</th>\n",
       "      <td>19.047619</td>\n",
       "      <td>80.952381</td>\n",
       "    </tr>\n",
       "    <tr>\n",
       "      <th>Research &amp; Development</th>\n",
       "      <td>13.839750</td>\n",
       "      <td>86.160250</td>\n",
       "    </tr>\n",
       "    <tr>\n",
       "      <th>Sales</th>\n",
       "      <td>20.627803</td>\n",
       "      <td>79.372197</td>\n",
       "    </tr>\n",
       "  </tbody>\n",
       "</table>\n",
       "</div>"
      ],
      "text/plain": [
       "Attrition Status             Left       Stay\n",
       "Department                                  \n",
       "Human Resources         19.047619  80.952381\n",
       "Research & Development  13.839750  86.160250\n",
       "Sales                   20.627803  79.372197"
      ]
     },
     "execution_count": 85,
     "metadata": {},
     "output_type": "execute_result"
    }
   ],
   "source": [
    "Department_attritionprop = pd.crosstab(index=df['Department'],columns=df['Attrition Status'], normalize='index')*100\n",
    "Department_attritionprop"
   ]
  },
  {
   "cell_type": "code",
   "execution_count": 87,
   "id": "c12103e8",
   "metadata": {},
   "outputs": [
    {
     "data": {
      "text/html": [
       "<div>\n",
       "<style scoped>\n",
       "    .dataframe tbody tr th:only-of-type {\n",
       "        vertical-align: middle;\n",
       "    }\n",
       "\n",
       "    .dataframe tbody tr th {\n",
       "        vertical-align: top;\n",
       "    }\n",
       "\n",
       "    .dataframe thead th {\n",
       "        text-align: right;\n",
       "    }\n",
       "</style>\n",
       "<table border=\"1\" class=\"dataframe\">\n",
       "  <thead>\n",
       "    <tr style=\"text-align: right;\">\n",
       "      <th>Attrition Status</th>\n",
       "      <th>Left</th>\n",
       "      <th>Stay</th>\n",
       "    </tr>\n",
       "    <tr>\n",
       "      <th>Department</th>\n",
       "      <th></th>\n",
       "      <th></th>\n",
       "    </tr>\n",
       "  </thead>\n",
       "  <tbody>\n",
       "    <tr>\n",
       "      <th>Human Resources</th>\n",
       "      <td>12</td>\n",
       "      <td>51</td>\n",
       "    </tr>\n",
       "    <tr>\n",
       "      <th>Research &amp; Development</th>\n",
       "      <td>133</td>\n",
       "      <td>828</td>\n",
       "    </tr>\n",
       "    <tr>\n",
       "      <th>Sales</th>\n",
       "      <td>92</td>\n",
       "      <td>354</td>\n",
       "    </tr>\n",
       "  </tbody>\n",
       "</table>\n",
       "</div>"
      ],
      "text/plain": [
       "Attrition Status        Left  Stay\n",
       "Department                        \n",
       "Human Resources           12    51\n",
       "Research & Development   133   828\n",
       "Sales                     92   354"
      ]
     },
     "execution_count": 87,
     "metadata": {},
     "output_type": "execute_result"
    }
   ],
   "source": [
    "Department_attrition = pd.crosstab(index=df['Department'],columns=df['Attrition Status'])\n",
    "Department_attrition"
   ]
  },
  {
   "cell_type": "code",
   "execution_count": 88,
   "id": "fe35591a",
   "metadata": {},
   "outputs": [
    {
     "data": {
      "image/png": "[encoded data removed]",
      "text/plain": [
       "<Figure size 640x480 with 1 Axes>"
      ]
     },
     "metadata": {},
     "output_type": "display_data"
    }
   ],
   "source": [
    "Dept_attrition.plot(kind='bar')\n",
    "plt.ylabel('Number of Employees')\n",
    "\n",
    "plt.show()"
   ]
  },
  {
   "cell_type": "code",
   "execution_count": 89,
   "id": "153248a3",
   "metadata": {},
   "outputs": [
    {
     "data": {
      "text/plain": [
       "0.004525606574479633"
      ]
     },
     "execution_count": 89,
     "metadata": {},
     "output_type": "execute_result"
    }
   ],
   "source": [
    "c, p, dof, expected = stats.chi2_contingency(Department_attrition)\n",
    "p"
   ]
  },
  {
   "cell_type": "markdown",
   "id": "8e324640",
   "metadata": {},
   "source": [
    "H-null - There is no relationship between department and attrition status\n",
    "\n",
    "H-alternative - There is a relationship between department and attrition status\n",
    "\n",
    "p-value > 0.05. alternative hypothesis is accepted.\n",
    "\n",
    "There is a relationship between department and attrition status\n",
    "\n",
    "The employee who work for research and department is more likely to leave the company"
   ]
  },
  {
   "cell_type": "markdown",
   "id": "c3343d20",
   "metadata": {},
   "source": [
    "### Is the attrition status of an employee influenced by distance from home?"
   ]
  },
  {
   "cell_type": "code",
   "execution_count": 91,
   "id": "b9a4bad1",
   "metadata": {},
   "outputs": [
    {
     "data": {
      "text/html": [
       "<div>\n",
       "<style scoped>\n",
       "    .dataframe tbody tr th:only-of-type {\n",
       "        vertical-align: middle;\n",
       "    }\n",
       "\n",
       "    .dataframe tbody tr th {\n",
       "        vertical-align: top;\n",
       "    }\n",
       "\n",
       "    .dataframe thead th {\n",
       "        text-align: right;\n",
       "    }\n",
       "</style>\n",
       "<table border=\"1\" class=\"dataframe\">\n",
       "  <thead>\n",
       "    <tr style=\"text-align: right;\">\n",
       "      <th></th>\n",
       "      <th>Attrition Status</th>\n",
       "      <th>DistanceFromHome</th>\n",
       "    </tr>\n",
       "  </thead>\n",
       "  <tbody>\n",
       "    <tr>\n",
       "      <th>0</th>\n",
       "      <td>Left</td>\n",
       "      <td>10.63</td>\n",
       "    </tr>\n",
       "    <tr>\n",
       "      <th>1</th>\n",
       "      <td>Stay</td>\n",
       "      <td>8.92</td>\n",
       "    </tr>\n",
       "  </tbody>\n",
       "</table>\n",
       "</div>"
      ],
      "text/plain": [
       "  Attrition Status  DistanceFromHome\n",
       "0             Left             10.63\n",
       "1             Stay              8.92"
      ]
     },
     "execution_count": 91,
     "metadata": {},
     "output_type": "execute_result"
    }
   ],
   "source": [
    "meanDistance_attrition = df.groupby('Attrition Status',as_index = False)['DistanceFromHome'].mean()\n",
    "meanDistance_attrition = meanDistance_attrition.round(2)\n",
    "meanDistance_attrition"
   ]
  },
  {
   "cell_type": "code",
   "execution_count": 92,
   "id": "be558c06",
   "metadata": {},
   "outputs": [
    {
     "data": {
      "image/png": "[encoded data removed]",
      "text/plain": [
       "<Figure size 640x480 with 1 Axes>"
      ]
     },
     "metadata": {},
     "output_type": "display_data"
    }
   ],
   "source": [
    "sns.boxplot(x='Attrition Status',\n",
    "            y='DistanceFromHome',\n",
    "           data=df)\n",
    "\n",
    "plt.show()"
   ]
  },
  {
   "cell_type": "code",
   "execution_count": 93,
   "id": "fc55a58e",
   "metadata": {},
   "outputs": [
    {
     "data": {
      "text/plain": [
       "LeveneResult(statistic=4.974146689763782, pvalue=0.025879557896104303)"
      ]
     },
     "execution_count": 93,
     "metadata": {},
     "output_type": "execute_result"
    }
   ],
   "source": [
    "stats.levene(df['DistanceFromHome'][df['Attrition Status']=='Left'],\n",
    "             df['DistanceFromHome'][df['Attrition Status']=='Stay'],\n",
    "             center='mean')"
   ]
  },
  {
   "cell_type": "code",
   "execution_count": 94,
   "id": "d11efa20",
   "metadata": {},
   "outputs": [
    {
     "data": {
      "text/plain": [
       "TtestResult(statistic=2.888183062817627, pvalue=0.004136511971511406, df=322.7242793667992)"
      ]
     },
     "execution_count": 94,
     "metadata": {},
     "output_type": "execute_result"
    }
   ],
   "source": [
    "stats.ttest_ind(df['DistanceFromHome'][df['Attrition Status']=='Left'],\n",
    "                df['DistanceFromHome'][df['Attrition Status']=='Stay'],\n",
    "                equal_var=False)"
   ]
  },
  {
   "cell_type": "markdown",
   "id": "92163b4e",
   "metadata": {},
   "source": [
    "The p-value of 0.0041 is below 0.05. Therefore, It conclude that there is evidence to reject the null hypothesis, suggesting that there is a statistically significant relationship between the distance from home to the office and employee attrition status. "
   ]
  },
  {
   "cell_type": "markdown",
   "id": "b206612d",
   "metadata": {},
   "source": [
    "## Logistic Regression Model"
   ]
  },
  {
   "cell_type": "code",
   "execution_count": 95,
   "id": "5c096d2b",
   "metadata": {},
   "outputs": [
    {
     "data": {
      "text/html": [
       "<div>\n",
       "<style scoped>\n",
       "    .dataframe tbody tr th:only-of-type {\n",
       "        vertical-align: middle;\n",
       "    }\n",
       "\n",
       "    .dataframe tbody tr th {\n",
       "        vertical-align: top;\n",
       "    }\n",
       "\n",
       "    .dataframe thead th {\n",
       "        text-align: right;\n",
       "    }\n",
       "</style>\n",
       "<table border=\"1\" class=\"dataframe\">\n",
       "  <thead>\n",
       "    <tr style=\"text-align: right;\">\n",
       "      <th></th>\n",
       "      <th>Age</th>\n",
       "      <th>MonthlyIncome</th>\n",
       "      <th>DistanceFromHome</th>\n",
       "      <th>Job Satisfaction</th>\n",
       "      <th>BusinessTravel</th>\n",
       "      <th>Environment Satisfaction</th>\n",
       "      <th>JobRole</th>\n",
       "      <th>MaritalStatus</th>\n",
       "      <th>YearsAtCompany</th>\n",
       "      <th>Department</th>\n",
       "      <th>OverTime</th>\n",
       "      <th>Attrition Status</th>\n",
       "    </tr>\n",
       "  </thead>\n",
       "  <tbody>\n",
       "    <tr>\n",
       "      <th>0</th>\n",
       "      <td>41</td>\n",
       "      <td>5993</td>\n",
       "      <td>1</td>\n",
       "      <td>Very High</td>\n",
       "      <td>Travel_Rarely</td>\n",
       "      <td>Medium</td>\n",
       "      <td>Sales Executive</td>\n",
       "      <td>Single</td>\n",
       "      <td>6</td>\n",
       "      <td>Sales</td>\n",
       "      <td>Yes</td>\n",
       "      <td>Left</td>\n",
       "    </tr>\n",
       "    <tr>\n",
       "      <th>1</th>\n",
       "      <td>49</td>\n",
       "      <td>5130</td>\n",
       "      <td>8</td>\n",
       "      <td>Medium</td>\n",
       "      <td>Travel_Frequently</td>\n",
       "      <td>High</td>\n",
       "      <td>Research Scientist</td>\n",
       "      <td>Married</td>\n",
       "      <td>10</td>\n",
       "      <td>Research &amp; Development</td>\n",
       "      <td>No</td>\n",
       "      <td>Stay</td>\n",
       "    </tr>\n",
       "    <tr>\n",
       "      <th>2</th>\n",
       "      <td>37</td>\n",
       "      <td>2090</td>\n",
       "      <td>2</td>\n",
       "      <td>High</td>\n",
       "      <td>Travel_Rarely</td>\n",
       "      <td>Very High</td>\n",
       "      <td>Laboratory Technician</td>\n",
       "      <td>Single</td>\n",
       "      <td>0</td>\n",
       "      <td>Research &amp; Development</td>\n",
       "      <td>Yes</td>\n",
       "      <td>Left</td>\n",
       "    </tr>\n",
       "    <tr>\n",
       "      <th>3</th>\n",
       "      <td>33</td>\n",
       "      <td>2909</td>\n",
       "      <td>3</td>\n",
       "      <td>High</td>\n",
       "      <td>Travel_Frequently</td>\n",
       "      <td>Very High</td>\n",
       "      <td>Research Scientist</td>\n",
       "      <td>Married</td>\n",
       "      <td>8</td>\n",
       "      <td>Research &amp; Development</td>\n",
       "      <td>Yes</td>\n",
       "      <td>Stay</td>\n",
       "    </tr>\n",
       "    <tr>\n",
       "      <th>4</th>\n",
       "      <td>27</td>\n",
       "      <td>3468</td>\n",
       "      <td>2</td>\n",
       "      <td>Medium</td>\n",
       "      <td>Travel_Rarely</td>\n",
       "      <td>Low</td>\n",
       "      <td>Laboratory Technician</td>\n",
       "      <td>Married</td>\n",
       "      <td>2</td>\n",
       "      <td>Research &amp; Development</td>\n",
       "      <td>No</td>\n",
       "      <td>Stay</td>\n",
       "    </tr>\n",
       "  </tbody>\n",
       "</table>\n",
       "</div>"
      ],
      "text/plain": [
       "   Age  MonthlyIncome  DistanceFromHome Job Satisfaction     BusinessTravel  \\\n",
       "0   41           5993                 1        Very High      Travel_Rarely   \n",
       "1   49           5130                 8           Medium  Travel_Frequently   \n",
       "2   37           2090                 2             High      Travel_Rarely   \n",
       "3   33           2909                 3             High  Travel_Frequently   \n",
       "4   27           3468                 2           Medium      Travel_Rarely   \n",
       "\n",
       "  Environment Satisfaction                JobRole MaritalStatus  \\\n",
       "0                   Medium        Sales Executive        Single   \n",
       "1                     High     Research Scientist       Married   \n",
       "2                Very High  Laboratory Technician        Single   \n",
       "3                Very High     Research Scientist       Married   \n",
       "4                      Low  Laboratory Technician       Married   \n",
       "\n",
       "   YearsAtCompany              Department OverTime Attrition Status  \n",
       "0               6                   Sales      Yes             Left  \n",
       "1              10  Research & Development       No             Stay  \n",
       "2               0  Research & Development      Yes             Left  \n",
       "3               8  Research & Development      Yes             Stay  \n",
       "4               2  Research & Development       No             Stay  "
      ]
     },
     "execution_count": 95,
     "metadata": {},
     "output_type": "execute_result"
    }
   ],
   "source": [
    "#Feature Selection\n",
    "df= df[['Age', 'MonthlyIncome','DistanceFromHome', 'Job Satisfaction','BusinessTravel', \n",
    "        'Environment Satisfaction', 'JobRole', 'MaritalStatus','YearsAtCompany',\n",
    "        'Department','OverTime', 'Attrition Status']]\n",
    "df.head()"
   ]
  },
  {
   "cell_type": "code",
   "execution_count": 96,
   "id": "02d09116",
   "metadata": {},
   "outputs": [],
   "source": [
    "#Assign input and output\n",
    "x = df.iloc[:,:-1] \n",
    "y = df.iloc[:,-1] "
   ]
  },
  {
   "cell_type": "code",
   "execution_count": 97,
   "id": "1ac843d6",
   "metadata": {},
   "outputs": [],
   "source": [
    "#Handling categorical variable (inputs only)\n",
    "#Transform Categorical to Encoded Dummy Numeric Variable\n",
    "x = pd.get_dummies(x,drop_first=True)"
   ]
  },
  {
   "cell_type": "code",
   "execution_count": 98,
   "id": "fe284e55",
   "metadata": {},
   "outputs": [],
   "source": [
    "#Partioning dataset. Due to inbalance dataset value, use stratified sampling\n",
    "from sklearn.model_selection import train_test_split\n",
    "\n",
    "x_train, x_test, y_train, y_test = train_test_split(x,y,test_size=0.2,random_state=0, stratify = y)"
   ]
  },
  {
   "cell_type": "markdown",
   "id": "7b7be4fc",
   "metadata": {},
   "source": [
    "from sklearn.preprocessing import StandardScaler\n",
    "\n",
    "scaler = StandardScaler() scaler.fit(x_train) x_train = scaler.transform(x_train"
   ]
  },
  {
   "cell_type": "code",
   "execution_count": 99,
   "id": "27895945",
   "metadata": {},
   "outputs": [],
   "source": [
    "from sklearn.preprocessing import StandardScaler\n",
    "\n",
    "scaler = StandardScaler()\n",
    "scaler.fit(x_train)\n",
    "x_train = scaler.transform(x_train)"
   ]
  },
  {
   "cell_type": "code",
   "execution_count": 100,
   "id": "f6b66bca",
   "metadata": {},
   "outputs": [
    {
     "data": {
      "text/html": [
       "<style>#sk-container-id-1 {color: black;}#sk-container-id-1 pre{padding: 0;}#sk-container-id-1 div.sk-toggleable {background-color: white;}#sk-container-id-1 label.sk-toggleable__label {cursor: pointer;display: block;width: 100%;margin-bottom: 0;padding: 0.3em;box-sizing: border-box;text-align: center;}#sk-container-id-1 label.sk-toggleable__label-arrow:before {content: \"▸\";float: left;margin-right: 0.25em;color: #696969;}#sk-container-id-1 label.sk-toggleable__label-arrow:hover:before {color: black;}#sk-container-id-1 div.sk-estimator:hover label.sk-toggleable__label-arrow:before {color: black;}#sk-container-id-1 div.sk-toggleable__content {max-height: 0;max-width: 0;overflow: hidden;text-align: left;background-color: #f0f8ff;}#sk-container-id-1 div.sk-toggleable__content pre {margin: 0.2em;color: black;border-radius: 0.25em;background-color: #f0f8ff;}#sk-container-id-1 input.sk-toggleable__control:checked~div.sk-toggleable__content {max-height: 200px;max-width: 100%;overflow: auto;}#sk-container-id-1 input.sk-toggleable__control:checked~label.sk-toggleable__label-arrow:before {content: \"▾\";}#sk-container-id-1 div.sk-estimator input.sk-toggleable__control:checked~label.sk-toggleable__label {background-color: #d4ebff;}#sk-container-id-1 div.sk-label input.sk-toggleable__control:checked~label.sk-toggleable__label {background-color: #d4ebff;}#sk-container-id-1 input.sk-hidden--visually {border: 0;clip: rect(1px 1px 1px 1px);clip: rect(1px, 1px, 1px, 1px);height: 1px;margin: -1px;overflow: hidden;padding: 0;position: absolute;width: 1px;}#sk-container-id-1 div.sk-estimator {font-family: monospace;background-color: #f0f8ff;border: 1px dotted black;border-radius: 0.25em;box-sizing: border-box;margin-bottom: 0.5em;}#sk-container-id-1 div.sk-estimator:hover {background-color: #d4ebff;}#sk-container-id-1 div.sk-parallel-item::after {content: \"\";width: 100%;border-bottom: 1px solid gray;flex-grow: 1;}#sk-container-id-1 div.sk-label:hover label.sk-toggleable__label {background-color: #d4ebff;}#sk-container-id-1 div.sk-serial::before {content: \"\";position: absolute;border-left: 1px solid gray;box-sizing: border-box;top: 0;bottom: 0;left: 50%;z-index: 0;}#sk-container-id-1 div.sk-serial {display: flex;flex-direction: column;align-items: center;background-color: white;padding-right: 0.2em;padding-left: 0.2em;position: relative;}#sk-container-id-1 div.sk-item {position: relative;z-index: 1;}#sk-container-id-1 div.sk-parallel {display: flex;align-items: stretch;justify-content: center;background-color: white;position: relative;}#sk-container-id-1 div.sk-item::before, #sk-container-id-1 div.sk-parallel-item::before {content: \"\";position: absolute;border-left: 1px solid gray;box-sizing: border-box;top: 0;bottom: 0;left: 50%;z-index: -1;}#sk-container-id-1 div.sk-parallel-item {display: flex;flex-direction: column;z-index: 1;position: relative;background-color: white;}#sk-container-id-1 div.sk-parallel-item:first-child::after {align-self: flex-end;width: 50%;}#sk-container-id-1 div.sk-parallel-item:last-child::after {align-self: flex-start;width: 50%;}#sk-container-id-1 div.sk-parallel-item:only-child::after {width: 0;}#sk-container-id-1 div.sk-dashed-wrapped {border: 1px dashed gray;margin: 0 0.4em 0.5em 0.4em;box-sizing: border-box;padding-bottom: 0.4em;background-color: white;}#sk-container-id-1 div.sk-label label {font-family: monospace;font-weight: bold;display: inline-block;line-height: 1.2em;}#sk-container-id-1 div.sk-label-container {text-align: center;}#sk-container-id-1 div.sk-container {/* jupyter's `normalize.less` sets `[hidden] { display: none; }` but bootstrap.min.css set `[hidden] { display: none !important; }` so we also need the `!important` here to be able to override the default hidden behavior on the sphinx rendered scikit-learn.org. See: https://github.com/scikit-learn/scikit-learn/issues/21755 */display: inline-block !important;position: relative;}#sk-container-id-1 div.sk-text-repr-fallback {display: none;}</style><div id=\"sk-container-id-1\" class=\"sk-top-container\"><div class=\"sk-text-repr-fallback\"><pre>LogisticRegression(random_state=0)</pre><b>In a Jupyter environment, please rerun this cell to show the HTML representation or trust the notebook. <br />On GitHub, the HTML representation is unable to render, please try loading this page with nbviewer.org.</b></div><div class=\"sk-container\" hidden><div class=\"sk-item\"><div class=\"sk-estimator sk-toggleable\"><input class=\"sk-toggleable__control sk-hidden--visually\" id=\"sk-estimator-id-1\" type=\"checkbox\" checked><label for=\"sk-estimator-id-1\" class=\"sk-toggleable__label sk-toggleable__label-arrow\">LogisticRegression</label><div class=\"sk-toggleable__content\"><pre>LogisticRegression(random_state=0)</pre></div></div></div></div></div>"
      ],
      "text/plain": [
       "LogisticRegression(random_state=0)"
      ]
     },
     "execution_count": 100,
     "metadata": {},
     "output_type": "execute_result"
    }
   ],
   "source": [
    "#####Train Logistic Regression Algorithm\n",
    "\n",
    "#Import LogisticRegression() function\n",
    "from sklearn.linear_model import LogisticRegression\n",
    "\n",
    "#Create a Logistic Regression classifier\n",
    "class_model = LogisticRegression(random_state=0)\n",
    "\n",
    "#Train the Logistic Regression algorithm using train set\n",
    "class_model.fit(x_train,y_train)"
   ]
  },
  {
   "cell_type": "markdown",
   "id": "8485b8d4",
   "metadata": {},
   "source": [
    "Train Naive Bayes Algorithm\n",
    "\n",
    "Import Gaussian Naive Bayes model\n",
    "\n",
    "from sklearn.naive_bayes import GaussianNB\n",
    "\n",
    "Create a Gaussian Classifier\n",
    "\n",
    "class_model = GaussianNB()\n",
    "\n",
    "Train the model using the training sets\n",
    "\n",
    "class_model.fit(x_train,y_train)"
   ]
  },
  {
   "cell_type": "code",
   "execution_count": 101,
   "id": "cee2f9a4",
   "metadata": {},
   "outputs": [],
   "source": [
    "#Scaling test set\n",
    "x_test = scaler.transform(x_test)"
   ]
  },
  {
   "cell_type": "code",
   "execution_count": 102,
   "id": "ba406766",
   "metadata": {},
   "outputs": [],
   "source": [
    "#Apply model\n",
    "y_pred=class_model.predict(x_test)"
   ]
  },
  {
   "cell_type": "code",
   "execution_count": 103,
   "id": "65fd91a6",
   "metadata": {},
   "outputs": [
    {
     "data": {
      "text/html": [
       "<div>\n",
       "<style scoped>\n",
       "    .dataframe tbody tr th:only-of-type {\n",
       "        vertical-align: middle;\n",
       "    }\n",
       "\n",
       "    .dataframe tbody tr th {\n",
       "        vertical-align: top;\n",
       "    }\n",
       "\n",
       "    .dataframe thead th {\n",
       "        text-align: right;\n",
       "    }\n",
       "</style>\n",
       "<table border=\"1\" class=\"dataframe\">\n",
       "  <thead>\n",
       "    <tr style=\"text-align: right;\">\n",
       "      <th></th>\n",
       "      <th>Actual</th>\n",
       "      <th>Predicted</th>\n",
       "    </tr>\n",
       "  </thead>\n",
       "  <tbody>\n",
       "    <tr>\n",
       "      <th>1050</th>\n",
       "      <td>Stay</td>\n",
       "      <td>Stay</td>\n",
       "    </tr>\n",
       "    <tr>\n",
       "      <th>931</th>\n",
       "      <td>Stay</td>\n",
       "      <td>Stay</td>\n",
       "    </tr>\n",
       "    <tr>\n",
       "      <th>296</th>\n",
       "      <td>Left</td>\n",
       "      <td>Stay</td>\n",
       "    </tr>\n",
       "    <tr>\n",
       "      <th>991</th>\n",
       "      <td>Stay</td>\n",
       "      <td>Stay</td>\n",
       "    </tr>\n",
       "    <tr>\n",
       "      <th>1027</th>\n",
       "      <td>Stay</td>\n",
       "      <td>Stay</td>\n",
       "    </tr>\n",
       "  </tbody>\n",
       "</table>\n",
       "</div>"
      ],
      "text/plain": [
       "     Actual Predicted\n",
       "1050   Stay      Stay\n",
       "931    Stay      Stay\n",
       "296    Left      Stay\n",
       "991    Stay      Stay\n",
       "1027   Stay      Stay"
      ]
     },
     "execution_count": 103,
     "metadata": {},
     "output_type": "execute_result"
    }
   ],
   "source": [
    "#Dataframe of Predicted Output and Actual Output for Test set\n",
    "df_validate = pd.DataFrame({'Actual':y_test,'Predicted':y_pred}) #Create Data Frame\n",
    "df_validate['Predicted']=df_validate['Predicted']\n",
    "df_validate.tail()"
   ]
  },
  {
   "cell_type": "code",
   "execution_count": 104,
   "id": "e5223596",
   "metadata": {},
   "outputs": [
    {
     "data": {
      "text/html": [
       "<div>\n",
       "<style scoped>\n",
       "    .dataframe tbody tr th:only-of-type {\n",
       "        vertical-align: middle;\n",
       "    }\n",
       "\n",
       "    .dataframe tbody tr th {\n",
       "        vertical-align: top;\n",
       "    }\n",
       "\n",
       "    .dataframe thead th {\n",
       "        text-align: right;\n",
       "    }\n",
       "</style>\n",
       "<table border=\"1\" class=\"dataframe\">\n",
       "  <thead>\n",
       "    <tr style=\"text-align: right;\">\n",
       "      <th>Attrition Status</th>\n",
       "      <th>Left</th>\n",
       "      <th>Stay</th>\n",
       "    </tr>\n",
       "    <tr>\n",
       "      <th>row_0</th>\n",
       "      <th></th>\n",
       "      <th></th>\n",
       "    </tr>\n",
       "  </thead>\n",
       "  <tbody>\n",
       "    <tr>\n",
       "      <th>Left</th>\n",
       "      <td>15</td>\n",
       "      <td>4</td>\n",
       "    </tr>\n",
       "    <tr>\n",
       "      <th>Stay</th>\n",
       "      <td>32</td>\n",
       "      <td>243</td>\n",
       "    </tr>\n",
       "  </tbody>\n",
       "</table>\n",
       "</div>"
      ],
      "text/plain": [
       "Attrition Status  Left  Stay\n",
       "row_0                       \n",
       "Left                15     4\n",
       "Stay                32   243"
      ]
     },
     "execution_count": 104,
     "metadata": {},
     "output_type": "execute_result"
    }
   ],
   "source": [
    "pd.crosstab(y_pred,y_test)"
   ]
  },
  {
   "cell_type": "code",
   "execution_count": 106,
   "id": "5cd707f1",
   "metadata": {},
   "outputs": [
    {
     "name": "stdout",
     "output_type": "stream",
     "text": [
      "              precision    recall  f1-score   support\n",
      "\n",
      "        Left       0.79      0.32      0.45        47\n",
      "        Stay       0.88      0.98      0.93       247\n",
      "\n",
      "    accuracy                           0.88       294\n",
      "   macro avg       0.84      0.65      0.69       294\n",
      "weighted avg       0.87      0.88      0.85       294\n",
      "\n"
     ]
    }
   ],
   "source": [
    "# Precision & Sensitivity/Recall Report\n",
    "from sklearn.metrics import classification_report\n",
    "print(classification_report(y_true=y_test,y_pred=y_pred))"
   ]
  },
  {
   "cell_type": "code",
   "execution_count": 107,
   "id": "f0aba067",
   "metadata": {},
   "outputs": [],
   "source": [
    "#Save the Model\n",
    "import pickle\n",
    "\n",
    "filename = 'class_model.sav' #Assigning name to the model\n",
    "\n",
    "#Write it to the file\n",
    "pickle.dump(class_model, open(filename,'wb')) #wb - write binary"
   ]
  },
  {
   "cell_type": "code",
   "execution_count": 108,
   "id": "2d0bc82d",
   "metadata": {},
   "outputs": [
    {
     "data": {
      "text/plain": [
       "['scaler_class.save']"
      ]
     },
     "execution_count": 108,
     "metadata": {},
     "output_type": "execute_result"
    }
   ],
   "source": [
    "#Save the Scaler Parameter\n",
    "import joblib\n",
    "joblib.dump(scaler,'scaler_class.save')"
   ]
  },
  {
   "cell_type": "code",
   "execution_count": null,
   "id": "3ddbaa39",
   "metadata": {},
   "outputs": [],
   "source": []
  }
 ],
 "metadata": {
  "kernelspec": {
   "display_name": "Python 3 (ipykernel)",
   "language": "python",
   "name": "python3"
  },
  "language_info": {
   "codemirror_mode": {
    "name": "ipython",
    "version": 3
   },
   "file_extension": ".py",
   "mimetype": "text/x-python",
   "name": "python",
   "nbconvert_exporter": "python",
   "pygments_lexer": "ipython3",
   "version": "3.11.6"
  }
 },
 "nbformat": 4,
 "nbformat_minor": 5
}
